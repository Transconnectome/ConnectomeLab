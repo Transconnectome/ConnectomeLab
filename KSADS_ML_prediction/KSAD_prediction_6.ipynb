{
 "cells": [
  {
   "cell_type": "markdown",
   "metadata": {},
   "source": [
    "##### <strong>Target:</strong>\n",
    "- 'Other.Specified.Neurodevelopmental.Disorder.Autism.Spectrum.Disorder'\n",
    "- Case: 27.23%\n",
    "\n",
    "##### <strong>Parameters:</strong>\n",
    "1. Cross Validation nubmer: 5 (just inner loop for quick result)\n",
    "2. n_estimator: 100\n",
    "3. max_depth: 5"
   ]
  },
  {
   "cell_type": "code",
   "execution_count": 1,
   "metadata": {},
   "outputs": [],
   "source": [
    "import numpy as np\n",
    "import pandas as pd\n",
    "import matplotlib.pyplot as plt"
   ]
  },
  {
   "cell_type": "code",
   "execution_count": 2,
   "metadata": {},
   "outputs": [],
   "source": [
    "from sklearn.ensemble import RandomForestRegressor, RandomForestClassifier\n",
    "from sklearn.model_selection import KFold, StratifiedKFold, GridSearchCV, RandomizedSearchCV\n",
    "from sklearn.metrics import r2_score, classification_report, confusion_matrix, accuracy_score, log_loss"
   ]
  },
  {
   "cell_type": "markdown",
   "metadata": {},
   "source": [
    "#### 1. Raw GPS data"
   ]
  },
  {
   "cell_type": "code",
   "execution_count": 3,
   "metadata": {},
   "outputs": [
    {
     "data": {
      "text/plain": [
       "4567"
      ]
     },
     "execution_count": 3,
     "metadata": {},
     "output_type": "execute_result"
    }
   ],
   "source": [
    "my_data = pd.read_csv('/home/ubuntu/SEOYOON/KSAD/KSAD_GPS_TOTAL_v2.csv', header=0)\n",
    "my_data['KEY'] = my_data['KEY'].astype(str)\n",
    "len(my_data)"
   ]
  },
  {
   "cell_type": "code",
   "execution_count": 4,
   "metadata": {
    "scrolled": true
   },
   "outputs": [
    {
     "data": {
      "text/plain": [
       "4561"
      ]
     },
     "execution_count": 4,
     "metadata": {},
     "output_type": "execute_result"
    }
   ],
   "source": [
    "target = 'Other.Specified.Neurodevelopmental.Disorder.Autism.Spectrum.Disorder'\n",
    "my_data = my_data.dropna(subset=[target])\n",
    "len(my_data)"
   ]
  },
  {
   "cell_type": "code",
   "execution_count": 5,
   "metadata": {},
   "outputs": [
    {
     "name": "stdout",
     "output_type": "stream",
     "text": [
      "case number: 1242.0\n",
      "case ratio: 27.23%\n"
     ]
    }
   ],
   "source": [
    "print(\"case number: {}\".format(sum(my_data[target])))\n",
    "print(\"case ratio: {:.2f}%\".format(sum(my_data[target])/len(my_data)*100))"
   ]
  },
  {
   "cell_type": "markdown",
   "metadata": {},
   "source": [
    "#### CONSTANTS:"
   ]
  },
  {
   "cell_type": "code",
   "execution_count": 6,
   "metadata": {},
   "outputs": [
    {
     "name": "stdout",
     "output_type": "stream",
     "text": [
      "num_samples:  4561\n",
      "fold_size:  913\n"
     ]
    }
   ],
   "source": [
    "k_fold = 5\n",
    "\n",
    "num_samples = len(my_data)\n",
    "each_fold_size = int(num_samples/k_fold) +1\n",
    "\n",
    "print('num_samples: ', num_samples)\n",
    "print('fold_size: ', each_fold_size)"
   ]
  },
  {
   "cell_type": "markdown",
   "metadata": {},
   "source": [
    "#### PARAMETERS:"
   ]
  },
  {
   "cell_type": "code",
   "execution_count": 7,
   "metadata": {},
   "outputs": [
    {
     "data": {
      "text/html": [
       "<div>\n",
       "<style scoped>\n",
       "    .dataframe tbody tr th:only-of-type {\n",
       "        vertical-align: middle;\n",
       "    }\n",
       "\n",
       "    .dataframe tbody tr th {\n",
       "        vertical-align: top;\n",
       "    }\n",
       "\n",
       "    .dataframe thead th {\n",
       "        text-align: right;\n",
       "    }\n",
       "</style>\n",
       "<table border=\"1\" class=\"dataframe\">\n",
       "  <thead>\n",
       "    <tr style=\"text-align: right;\">\n",
       "      <th></th>\n",
       "      <th>AD</th>\n",
       "      <th>ADHD</th>\n",
       "      <th>ASD</th>\n",
       "      <th>ASP</th>\n",
       "      <th>BIP</th>\n",
       "      <th>BMI</th>\n",
       "      <th>CANNABIS</th>\n",
       "      <th>CP</th>\n",
       "      <th>DEPRESSION</th>\n",
       "      <th>DRINK</th>\n",
       "      <th>...</th>\n",
       "      <th>IQ</th>\n",
       "      <th>MDD</th>\n",
       "      <th>NEUROTICISM</th>\n",
       "      <th>PTSD</th>\n",
       "      <th>RISK4PC</th>\n",
       "      <th>RISKTOL</th>\n",
       "      <th>SCZ</th>\n",
       "      <th>SMOKER</th>\n",
       "      <th>SNORING</th>\n",
       "      <th>WORRY</th>\n",
       "    </tr>\n",
       "  </thead>\n",
       "  <tbody>\n",
       "    <tr>\n",
       "      <th>0</th>\n",
       "      <td>-5.780160</td>\n",
       "      <td>0.000318</td>\n",
       "      <td>-0.368089</td>\n",
       "      <td>-0.583751</td>\n",
       "      <td>0.003292</td>\n",
       "      <td>0.004191</td>\n",
       "      <td>-5.988192</td>\n",
       "      <td>-2.156561</td>\n",
       "      <td>0.002583</td>\n",
       "      <td>-0.106358</td>\n",
       "      <td>...</td>\n",
       "      <td>-2.917600</td>\n",
       "      <td>-2.412027</td>\n",
       "      <td>0.013433</td>\n",
       "      <td>0.000000</td>\n",
       "      <td>0.233276</td>\n",
       "      <td>-0.363054</td>\n",
       "      <td>-0.368089</td>\n",
       "      <td>0.022038</td>\n",
       "      <td>0.063292</td>\n",
       "      <td>-0.000821</td>\n",
       "    </tr>\n",
       "    <tr>\n",
       "      <th>1</th>\n",
       "      <td>9.133668</td>\n",
       "      <td>-0.008823</td>\n",
       "      <td>0.000000</td>\n",
       "      <td>-0.544655</td>\n",
       "      <td>0.003292</td>\n",
       "      <td>0.004191</td>\n",
       "      <td>-3.063278</td>\n",
       "      <td>-3.683131</td>\n",
       "      <td>0.002060</td>\n",
       "      <td>-0.161727</td>\n",
       "      <td>...</td>\n",
       "      <td>0.369931</td>\n",
       "      <td>1.223589</td>\n",
       "      <td>0.000064</td>\n",
       "      <td>0.017525</td>\n",
       "      <td>0.130802</td>\n",
       "      <td>-0.320289</td>\n",
       "      <td>0.000000</td>\n",
       "      <td>-0.169713</td>\n",
       "      <td>0.021098</td>\n",
       "      <td>-0.001469</td>\n",
       "    </tr>\n",
       "    <tr>\n",
       "      <th>2</th>\n",
       "      <td>2.059180</td>\n",
       "      <td>-0.005448</td>\n",
       "      <td>0.000000</td>\n",
       "      <td>-0.601716</td>\n",
       "      <td>0.003292</td>\n",
       "      <td>0.000000</td>\n",
       "      <td>-10.187523</td>\n",
       "      <td>-4.160142</td>\n",
       "      <td>0.006631</td>\n",
       "      <td>-0.402164</td>\n",
       "      <td>...</td>\n",
       "      <td>-4.261953</td>\n",
       "      <td>-1.434531</td>\n",
       "      <td>0.012193</td>\n",
       "      <td>0.010899</td>\n",
       "      <td>-0.271698</td>\n",
       "      <td>0.390031</td>\n",
       "      <td>0.000000</td>\n",
       "      <td>-0.088810</td>\n",
       "      <td>0.037388</td>\n",
       "      <td>-0.016278</td>\n",
       "    </tr>\n",
       "    <tr>\n",
       "      <th>3</th>\n",
       "      <td>8.591499</td>\n",
       "      <td>0.000838</td>\n",
       "      <td>0.000000</td>\n",
       "      <td>-0.068964</td>\n",
       "      <td>0.003292</td>\n",
       "      <td>0.000000</td>\n",
       "      <td>-0.944047</td>\n",
       "      <td>-4.682147</td>\n",
       "      <td>0.004259</td>\n",
       "      <td>-0.947712</td>\n",
       "      <td>...</td>\n",
       "      <td>-2.582771</td>\n",
       "      <td>-1.689643</td>\n",
       "      <td>0.013623</td>\n",
       "      <td>0.019801</td>\n",
       "      <td>-0.183950</td>\n",
       "      <td>-0.037689</td>\n",
       "      <td>0.000000</td>\n",
       "      <td>-0.110845</td>\n",
       "      <td>0.022991</td>\n",
       "      <td>0.000487</td>\n",
       "    </tr>\n",
       "    <tr>\n",
       "      <th>4</th>\n",
       "      <td>3.104598</td>\n",
       "      <td>-0.012818</td>\n",
       "      <td>0.000000</td>\n",
       "      <td>-1.211318</td>\n",
       "      <td>0.000000</td>\n",
       "      <td>0.000000</td>\n",
       "      <td>-10.269615</td>\n",
       "      <td>-4.843486</td>\n",
       "      <td>0.000878</td>\n",
       "      <td>-0.997582</td>\n",
       "      <td>...</td>\n",
       "      <td>-3.145087</td>\n",
       "      <td>0.943200</td>\n",
       "      <td>0.013695</td>\n",
       "      <td>0.000000</td>\n",
       "      <td>-0.074910</td>\n",
       "      <td>0.404019</td>\n",
       "      <td>0.000000</td>\n",
       "      <td>-0.183223</td>\n",
       "      <td>-0.008245</td>\n",
       "      <td>-0.013129</td>\n",
       "    </tr>\n",
       "  </tbody>\n",
       "</table>\n",
       "<p>5 rows × 26 columns</p>\n",
       "</div>"
      ],
      "text/plain": [
       "         AD      ADHD       ASD       ASP       BIP       BMI   CANNABIS  \\\n",
       "0 -5.780160  0.000318 -0.368089 -0.583751  0.003292  0.004191  -5.988192   \n",
       "1  9.133668 -0.008823  0.000000 -0.544655  0.003292  0.004191  -3.063278   \n",
       "2  2.059180 -0.005448  0.000000 -0.601716  0.003292  0.000000 -10.187523   \n",
       "3  8.591499  0.000838  0.000000 -0.068964  0.003292  0.000000  -0.944047   \n",
       "4  3.104598 -0.012818  0.000000 -1.211318  0.000000  0.000000 -10.269615   \n",
       "\n",
       "         CP  DEPRESSION     DRINK  ...        IQ       MDD  NEUROTICISM  \\\n",
       "0 -2.156561    0.002583 -0.106358  ... -2.917600 -2.412027     0.013433   \n",
       "1 -3.683131    0.002060 -0.161727  ...  0.369931  1.223589     0.000064   \n",
       "2 -4.160142    0.006631 -0.402164  ... -4.261953 -1.434531     0.012193   \n",
       "3 -4.682147    0.004259 -0.947712  ... -2.582771 -1.689643     0.013623   \n",
       "4 -4.843486    0.000878 -0.997582  ... -3.145087  0.943200     0.013695   \n",
       "\n",
       "       PTSD   RISK4PC   RISKTOL       SCZ    SMOKER   SNORING     WORRY  \n",
       "0  0.000000  0.233276 -0.363054 -0.368089  0.022038  0.063292 -0.000821  \n",
       "1  0.017525  0.130802 -0.320289  0.000000 -0.169713  0.021098 -0.001469  \n",
       "2  0.010899 -0.271698  0.390031  0.000000 -0.088810  0.037388 -0.016278  \n",
       "3  0.019801 -0.183950 -0.037689  0.000000 -0.110845  0.022991  0.000487  \n",
       "4  0.000000 -0.074910  0.404019  0.000000 -0.183223 -0.008245 -0.013129  \n",
       "\n",
       "[5 rows x 26 columns]"
      ]
     },
     "execution_count": 7,
     "metadata": {},
     "output_type": "execute_result"
    }
   ],
   "source": [
    "X = my_data.iloc[:, 1:27]\n",
    "features = X.columns\n",
    "X.head()"
   ]
  },
  {
   "cell_type": "code",
   "execution_count": 8,
   "metadata": {},
   "outputs": [
    {
     "data": {
      "text/plain": [
       "0    1.0\n",
       "1    0.0\n",
       "2    1.0\n",
       "3    1.0\n",
       "4    0.0\n",
       "Name: Other.Specified.Neurodevelopmental.Disorder.Autism.Spectrum.Disorder, dtype: object"
      ]
     },
     "execution_count": 8,
     "metadata": {},
     "output_type": "execute_result"
    }
   ],
   "source": [
    "y = my_data[target].astype(str)\n",
    "y.head()"
   ]
  },
  {
   "cell_type": "code",
   "execution_count": 9,
   "metadata": {
    "scrolled": true
   },
   "outputs": [],
   "source": [
    "X = X.to_numpy()\n",
    "y = y.to_numpy().ravel()"
   ]
  },
  {
   "cell_type": "code",
   "execution_count": 10,
   "metadata": {},
   "outputs": [],
   "source": [
    "def plot_feature_importances(model):\n",
    "    n_features = len(features)\n",
    "    plt.figure(figsize=(6,6))\n",
    "    plt.barh(range(n_features), model.feature_importances_, align='center')\n",
    "    plt.yticks(np.arange(n_features), features)\n",
    "    plt.xlabel(\"Feature Importances\")\n",
    "    plt.ylabel(\"Features\")\n",
    "    plt.ylim(-1, n_features)\n",
    "    plt.show()"
   ]
  },
  {
   "cell_type": "code",
   "execution_count": 11,
   "metadata": {
    "scrolled": false
   },
   "outputs": [
    {
     "name": "stdout",
     "output_type": "stream",
     "text": [
      "----------------------------\n",
      "k fold:  0\n"
     ]
    },
    {
     "data": {
      "image/png": "[encoded data removed]",
      "text/plain": [
       "<Figure size 432x432 with 1 Axes>"
      ]
     },
     "metadata": {},
     "output_type": "display_data"
    },
    {
     "name": "stdout",
     "output_type": "stream",
     "text": [
      "Feature Importances:\n",
      "[0.0412508  0.05095492 0.01855138 0.04386169 0.0081276  0.01161647\n",
      " 0.05560543 0.02817511 0.03898325 0.06464345 0.0606129  0.04101952\n",
      " 0.04635379 0.04630298 0.02510233 0.04363236 0.03794529 0.04785574\n",
      " 0.0337166  0.01497338 0.04980243 0.03673142 0.02667941 0.04463162\n",
      " 0.04363634 0.03923376]\n",
      "\n",
      "\n",
      "Train Cross Entropy Score:  0.5517185424909775\n",
      "Test Cross Entropy Score:  0.5858645795781559\n",
      "----------------------------\n",
      "----------------------------\n",
      "k fold:  0\n"
     ]
    },
    {
     "data": {
      "image/png": "[encoded data removed]",
      "text/plain": [
       "<Figure size 432x432 with 1 Axes>"
      ]
     },
     "metadata": {},
     "output_type": "display_data"
    },
    {
     "name": "stdout",
     "output_type": "stream",
     "text": [
      "Feature Importances:\n",
      "[0.03400066 0.05121809 0.01297884 0.05580701 0.00371902 0.00882723\n",
      " 0.0514677  0.03650347 0.03985336 0.05990452 0.04504003 0.0242898\n",
      " 0.04210546 0.04601054 0.02288662 0.04891907 0.03572243 0.07155985\n",
      " 0.0511708  0.01768676 0.04059971 0.04678939 0.0145176  0.04648838\n",
      " 0.05757532 0.03435832]\n",
      "\n",
      "\n",
      "Train Cross Entropy Score:  0.5508718814069873\n",
      "Test Cross Entropy Score:  0.5864617547781206\n",
      "----------------------------\n",
      "----------------------------\n",
      "k fold:  0\n"
     ]
    },
    {
     "data": {
      "image/png": "[encoded data removed]",
      "text/plain": [
       "<Figure size 432x432 with 1 Axes>"
      ]
     },
     "metadata": {},
     "output_type": "display_data"
    },
    {
     "name": "stdout",
     "output_type": "stream",
     "text": [
      "Feature Importances:\n",
      "[0.04187945 0.04532879 0.00958295 0.06748261 0.0054409  0.01056461\n",
      " 0.03423046 0.03816176 0.04094814 0.09242075 0.06230413 0.02481316\n",
      " 0.05542042 0.04044352 0.02944307 0.04705334 0.04320242 0.04852103\n",
      " 0.04170158 0.0126742  0.03914654 0.03764518 0.00919307 0.04555582\n",
      " 0.04428201 0.0325601 ]\n",
      "\n",
      "\n",
      "Train Cross Entropy Score:  0.5528005595103614\n",
      "Test Cross Entropy Score:  0.587784077941613\n",
      "----------------------------\n",
      "----------------------------\n",
      "k fold:  0\n"
     ]
    },
    {
     "data": {
      "image/png": "[encoded data removed]",
      "text/plain": [
       "<Figure size 432x432 with 1 Axes>"
      ]
     },
     "metadata": {},
     "output_type": "display_data"
    },
    {
     "name": "stdout",
     "output_type": "stream",
     "text": [
      "Feature Importances:\n",
      "[0.0291849  0.03967572 0.01639658 0.05374544 0.00713164 0.01113274\n",
      " 0.04085212 0.05028524 0.04436989 0.09615521 0.03762513 0.02027499\n",
      " 0.06683951 0.04651668 0.02116382 0.03066701 0.02696359 0.05523285\n",
      " 0.03783515 0.01278913 0.05559333 0.04098838 0.01970815 0.0441656\n",
      " 0.05502194 0.03968528]\n",
      "\n",
      "\n",
      "Train Cross Entropy Score:  0.5515661021567158\n",
      "Test Cross Entropy Score:  0.5872953792863155\n",
      "----------------------------\n",
      "----------------------------\n",
      "k fold:  0\n"
     ]
    },
    {
     "data": {
      "image/png": "[encoded data removed]",
      "text/plain": [
       "<Figure size 432x432 with 1 Axes>"
      ]
     },
     "metadata": {},
     "output_type": "display_data"
    },
    {
     "name": "stdout",
     "output_type": "stream",
     "text": [
      "Feature Importances:\n",
      "[0.03280017 0.04732397 0.01434722 0.0450152  0.00583292 0.00866437\n",
      " 0.04643932 0.03519581 0.03686509 0.07325159 0.08400427 0.01704496\n",
      " 0.04889673 0.06077176 0.02376807 0.03467532 0.04168722 0.04860217\n",
      " 0.03957372 0.01733642 0.04070573 0.03662113 0.01366808 0.03848855\n",
      " 0.05868591 0.04973431]\n",
      "\n",
      "\n",
      "Train Cross Entropy Score:  0.5519474735186559\n",
      "Test Cross Entropy Score:  0.5874038976373391\n",
      "----------------------------\n"
     ]
    }
   ],
   "source": [
    "index_split = StratifiedKFold(n_splits=k_fold, random_state=123)\n",
    "\n",
    "loop=0\n",
    "for train_index, test_index in index_split.split(X, y):\n",
    "    print('----------------------------')\n",
    "    print('k fold: ', loop)\n",
    "    \n",
    "    train_index, test_index\n",
    "    \n",
    "    X_train, X_test = X[train_index], X[test_index]\n",
    "    y_train, y_test = y[train_index], y[test_index]\n",
    "    \n",
    "    rf = RandomForestClassifier(n_estimators=100, max_depth=5)\n",
    "    \n",
    "    rf.fit(X_train, y_train)\n",
    "    y_pred_test = rf.predict_proba(X_test)\n",
    "    y_pred_train = rf.predict_proba(X_train)\n",
    "    plot_feature_importances(rf)\n",
    "    \n",
    "    print(\"Feature Importances:\\n{}\".format(rf.feature_importances_))\n",
    "\n",
    "    print('\\n')\n",
    "    print('Train Cross Entropy Score: ', log_loss(y_train, y_pred_train))\n",
    "#     print('Classification Report: ', classification_report(y_test, y_pred_test))\n",
    "#     print('Confusion Matrix: ', confusion_matrix(y_test, y_pred_test))\n",
    "    print('Test Cross Entropy Score: ', log_loss(y_test, y_pred_test))\n",
    "    print('----------------------------')"
   ]
  },
  {
   "cell_type": "markdown",
   "metadata": {},
   "source": [
    "Reference: https://medium.com/@hjhuney/implementing-a-random-forest-classification-model-in-python-583891c99652"
   ]
  },
  {
   "cell_type": "code",
   "execution_count": 12,
   "metadata": {
    "scrolled": false
   },
   "outputs": [
    {
     "name": "stdout",
     "output_type": "stream",
     "text": [
      "----------------------------\n",
      "k fold:  0\n",
      "=== Confusion Matrix ===\n",
      "[[664   0]\n",
      " [249   0]]\n",
      "\n",
      "\n",
      "=== Classification Report ===\n",
      "             precision    recall  f1-score   support\n",
      "\n",
      "        0.0       0.73      1.00      0.84       664\n",
      "        1.0       0.00      0.00      0.00       249\n",
      "\n",
      "avg / total       0.53      0.73      0.61       913\n",
      "\n",
      "\n",
      "\n",
      "=== Accuracy Score ===\n",
      "0.7272727272727273\n",
      "----------------------------\n",
      "k fold:  0\n"
     ]
    },
    {
     "name": "stderr",
     "output_type": "stream",
     "text": [
      "/home/ubuntu/anaconda3/envs/python3/lib/python3.6/site-packages/sklearn/metrics/classification.py:1135: UndefinedMetricWarning: Precision and F-score are ill-defined and being set to 0.0 in labels with no predicted samples.\n",
      "  'precision', 'predicted', average, warn_for)\n"
     ]
    },
    {
     "name": "stdout",
     "output_type": "stream",
     "text": [
      "=== Confusion Matrix ===\n",
      "[[664   0]\n",
      " [249   0]]\n",
      "\n",
      "\n",
      "=== Classification Report ===\n",
      "             precision    recall  f1-score   support\n",
      "\n",
      "        0.0       0.73      1.00      0.84       664\n",
      "        1.0       0.00      0.00      0.00       249\n",
      "\n",
      "avg / total       0.53      0.73      0.61       913\n",
      "\n",
      "\n",
      "\n",
      "=== Accuracy Score ===\n",
      "0.7272727272727273\n",
      "----------------------------\n",
      "k fold:  0\n"
     ]
    },
    {
     "name": "stderr",
     "output_type": "stream",
     "text": [
      "/home/ubuntu/anaconda3/envs/python3/lib/python3.6/site-packages/sklearn/metrics/classification.py:1135: UndefinedMetricWarning: Precision and F-score are ill-defined and being set to 0.0 in labels with no predicted samples.\n",
      "  'precision', 'predicted', average, warn_for)\n"
     ]
    },
    {
     "name": "stdout",
     "output_type": "stream",
     "text": [
      "=== Confusion Matrix ===\n",
      "[[664   0]\n",
      " [248   0]]\n",
      "\n",
      "\n",
      "=== Classification Report ===\n",
      "             precision    recall  f1-score   support\n",
      "\n",
      "        0.0       0.73      1.00      0.84       664\n",
      "        1.0       0.00      0.00      0.00       248\n",
      "\n",
      "avg / total       0.53      0.73      0.61       912\n",
      "\n",
      "\n",
      "\n",
      "=== Accuracy Score ===\n",
      "0.7280701754385965\n",
      "----------------------------\n",
      "k fold:  0\n"
     ]
    },
    {
     "name": "stderr",
     "output_type": "stream",
     "text": [
      "/home/ubuntu/anaconda3/envs/python3/lib/python3.6/site-packages/sklearn/metrics/classification.py:1135: UndefinedMetricWarning: Precision and F-score are ill-defined and being set to 0.0 in labels with no predicted samples.\n",
      "  'precision', 'predicted', average, warn_for)\n"
     ]
    },
    {
     "name": "stdout",
     "output_type": "stream",
     "text": [
      "=== Confusion Matrix ===\n",
      "[[664   0]\n",
      " [248   0]]\n",
      "\n",
      "\n",
      "=== Classification Report ===\n",
      "             precision    recall  f1-score   support\n",
      "\n",
      "        0.0       0.73      1.00      0.84       664\n",
      "        1.0       0.00      0.00      0.00       248\n",
      "\n",
      "avg / total       0.53      0.73      0.61       912\n",
      "\n",
      "\n",
      "\n",
      "=== Accuracy Score ===\n",
      "0.7280701754385965\n",
      "----------------------------\n",
      "k fold:  0\n"
     ]
    },
    {
     "name": "stderr",
     "output_type": "stream",
     "text": [
      "/home/ubuntu/anaconda3/envs/python3/lib/python3.6/site-packages/sklearn/metrics/classification.py:1135: UndefinedMetricWarning: Precision and F-score are ill-defined and being set to 0.0 in labels with no predicted samples.\n",
      "  'precision', 'predicted', average, warn_for)\n"
     ]
    },
    {
     "name": "stdout",
     "output_type": "stream",
     "text": [
      "=== Confusion Matrix ===\n",
      "[[663   0]\n",
      " [248   0]]\n",
      "\n",
      "\n",
      "=== Classification Report ===\n",
      "             precision    recall  f1-score   support\n",
      "\n",
      "        0.0       0.73      1.00      0.84       663\n",
      "        1.0       0.00      0.00      0.00       248\n",
      "\n",
      "avg / total       0.53      0.73      0.61       911\n",
      "\n",
      "\n",
      "\n",
      "=== Accuracy Score ===\n",
      "0.7277716794731065\n"
     ]
    },
    {
     "name": "stderr",
     "output_type": "stream",
     "text": [
      "/home/ubuntu/anaconda3/envs/python3/lib/python3.6/site-packages/sklearn/metrics/classification.py:1135: UndefinedMetricWarning: Precision and F-score are ill-defined and being set to 0.0 in labels with no predicted samples.\n",
      "  'precision', 'predicted', average, warn_for)\n"
     ]
    }
   ],
   "source": [
    "index_split = StratifiedKFold(n_splits=k_fold, random_state=123)\n",
    "from sklearn.model_selection import cross_val_score\n",
    "\n",
    "loop=0\n",
    "for train_index, test_index in index_split.split(X, y):\n",
    "    print('----------------------------')\n",
    "    print('k fold: ', loop)\n",
    "    \n",
    "    train_index, test_index\n",
    "    \n",
    "    X_train, X_test = X[train_index], X[test_index]\n",
    "    y_train, y_test = y[train_index], y[test_index]\n",
    "    \n",
    "    rf = RandomForestClassifier(n_estimators=100, max_depth=5)\n",
    "    \n",
    "    rf.fit(X_train, y_train)\n",
    "    y_pred_test = rf.predict(X_test)\n",
    "    \n",
    "#     cv_score = cross_val_score(rf, X, y, cv=5, scoring='roc_auc')\n",
    "    \n",
    "    print(\"=== Confusion Matrix ===\")\n",
    "    print(confusion_matrix(y_test, y_pred_test))\n",
    "    print('\\n')\n",
    "    print(\"=== Classification Report ===\")\n",
    "    print(classification_report(y_test, y_pred_test))\n",
    "    print('\\n')\n",
    "    print(\"=== Accuracy Score ===\")\n",
    "    print(accuracy_score(y_test, y_pred_test))\n",
    "#     print(\"=== All AUC Scores ===\")\n",
    "#     print(cv_score)\n",
    "#     print('\\n')\n",
    "#     print(\"=== Mean AUC Score ===\")\n",
    "#     print(\"Mean AUC Score - Random Forest: \", cv_score.mean())"
   ]
  },
  {
   "cell_type": "markdown",
   "metadata": {},
   "source": [
    "##### <strong>Parameters:</strong>\n",
    "1. Cross Validation nubmer: 5 (just inner loop for quick result)\n",
    "2. n_estimator: 100\n",
    "3. max_depth: 5"
   ]
  },
  {
   "cell_type": "code",
   "execution_count": 49,
   "metadata": {},
   "outputs": [],
   "source": [
    "for i in range(len(y)):\n",
    "    if y[i] is \"O\":\n",
    "        y[i] = 1\n",
    "    elif y[i] is \"X\":\n",
    "        y[i] = 0\n",
    "    else:\n",
    "        print(y[i])"
   ]
  },
  {
   "cell_type": "code",
   "execution_count": 54,
   "metadata": {},
   "outputs": [],
   "source": [
    "y = y.astype(int)"
   ]
  },
  {
   "cell_type": "code",
   "execution_count": 58,
   "metadata": {},
   "outputs": [],
   "source": [
    "from sklearn.pipeline import Pipeline\n",
    "from sklearn.metrics import roc_auc_score, roc_curve, auc, f1_score"
   ]
  },
  {
   "cell_type": "code",
   "execution_count": 72,
   "metadata": {
    "scrolled": false
   },
   "outputs": [
    {
     "name": "stdout",
     "output_type": "stream",
     "text": [
      "\n",
      "\n",
      "--------------------------------------------------\n",
      "Loop:  1\n"
     ]
    },
    {
     "data": {
      "image/png": "[encoded data removed]",
      "text/plain": [
       "<Figure size 432x432 with 1 Axes>"
      ]
     },
     "metadata": {},
     "output_type": "display_data"
    },
    {
     "name": "stdout",
     "output_type": "stream",
     "text": [
      "1. Feature Importances.......................\n",
      "\t [0.04493615 0.04823742 0.01253319 0.04775786 0.00818581 0.0140079\n",
      " 0.04984881 0.04269974 0.04530193 0.04651493 0.04599517 0.02876482\n",
      " 0.04689128 0.04826687 0.02658816 0.05308198 0.04447404 0.04742439\n",
      " 0.0439482  0.01380778 0.04841679 0.0423109  0.0135488  0.04445319\n",
      " 0.04783784 0.04416604]\n",
      "2. best train parameter......................\n",
      "\t {'max_depth': 20, 'n_estimators': 60}\n",
      "3. best train score..........................\n",
      "\t 0.51269265320857\n",
      "\n",
      "\n",
      "4. ROC-AUC...................................\n",
      "\t 0.501937984496124\n",
      "5. f1 score..................................\n",
      "\t 0.007722007722007722\n",
      "6. Confusion matrix..........................\n",
      "[[655   0]\n",
      " [257   1]]\n",
      "7. Classify report...........................\n",
      "             precision    recall  f1-score   support\n",
      "\n",
      "          0       0.72      1.00      0.84       655\n",
      "          1       1.00      0.00      0.01       258\n",
      "\n",
      "avg / total       0.80      0.72      0.60       913\n",
      "\n",
      "8. Accuracy score............................\n",
      "\t 0.7185104052573932\n",
      "\n",
      "\n",
      "--------------------------------------------------\n",
      "Loop:  2\n"
     ]
    },
    {
     "data": {
      "image/png": "[encoded data removed]",
      "text/plain": [
       "<Figure size 432x432 with 1 Axes>"
      ]
     },
     "metadata": {},
     "output_type": "display_data"
    },
    {
     "name": "stdout",
     "output_type": "stream",
     "text": [
      "1. Feature Importances.......................\n",
      "\t [0.04674501 0.04763445 0.01074719 0.04678929 0.00813094 0.01222986\n",
      " 0.04646354 0.04561324 0.04283324 0.04766504 0.04871303 0.02654752\n",
      " 0.04700257 0.0507929  0.02488837 0.04919234 0.04263609 0.04848035\n",
      " 0.04441068 0.01513994 0.0499291  0.04327108 0.01336069 0.04761171\n",
      " 0.05000615 0.04316569]\n",
      "2. best train parameter......................\n",
      "\t {'max_depth': 40, 'n_estimators': 60}\n",
      "3. best train score..........................\n",
      "\t 0.5217762652654041\n",
      "\n",
      "\n",
      "4. ROC-AUC...................................\n",
      "\t 0.5031276918050317\n",
      "5. f1 score..................................\n",
      "\t 0.015384615384615385\n",
      "6. Confusion matrix..........................\n",
      "[[654   1]\n",
      " [255   2]]\n",
      "7. Classify report...........................\n",
      "             precision    recall  f1-score   support\n",
      "\n",
      "          0       0.72      1.00      0.84       655\n",
      "          1       0.67      0.01      0.02       257\n",
      "\n",
      "avg / total       0.70      0.72      0.60       912\n",
      "\n",
      "8. Accuracy score............................\n",
      "\t 0.7192982456140351\n",
      "\n",
      "\n",
      "--------------------------------------------------\n",
      "Loop:  3\n"
     ]
    },
    {
     "data": {
      "image/png": "[encoded data removed]",
      "text/plain": [
       "<Figure size 432x432 with 1 Axes>"
      ]
     },
     "metadata": {},
     "output_type": "display_data"
    },
    {
     "name": "stdout",
     "output_type": "stream",
     "text": [
      "1. Feature Importances.......................\n",
      "\t [0.04050637 0.04948334 0.01268843 0.04794356 0.00921204 0.00915306\n",
      " 0.04069315 0.04454007 0.04531721 0.05072644 0.04619904 0.0269628\n",
      " 0.04903892 0.04948186 0.03094952 0.04317893 0.0491742  0.0446162\n",
      " 0.04362525 0.01900206 0.04815415 0.04455304 0.01046387 0.04776736\n",
      " 0.05238868 0.04418044]\n",
      "2. best train parameter......................\n",
      "\t {'max_depth': 40, 'n_estimators': 40}\n",
      "3. best train score..........................\n",
      "\t 0.5104224050102859\n",
      "\n",
      "\n",
      "4. ROC-AUC...................................\n",
      "\t 0.4984779299847793\n",
      "5. f1 score..................................\n",
      "\t 0.0\n",
      "6. Confusion matrix..........................\n",
      "[[655   2]\n",
      " [255   0]]\n",
      "7. Classify report...........................\n",
      "             precision    recall  f1-score   support\n",
      "\n",
      "          0       0.72      1.00      0.84       657\n",
      "          1       0.00      0.00      0.00       255\n",
      "\n",
      "avg / total       0.52      0.72      0.60       912\n",
      "\n",
      "8. Accuracy score............................\n",
      "\t 0.7182017543859649\n",
      "\n",
      "\n",
      "--------------------------------------------------\n",
      "Loop:  4\n"
     ]
    },
    {
     "data": {
      "image/png": "[encoded data removed]",
      "text/plain": [
       "<Figure size 432x432 with 1 Axes>"
      ]
     },
     "metadata": {},
     "output_type": "display_data"
    },
    {
     "name": "stdout",
     "output_type": "stream",
     "text": [
      "1. Feature Importances.......................\n",
      "\t [0.04126585 0.04668611 0.01224584 0.04937959 0.00852707 0.01036705\n",
      " 0.04845859 0.04497241 0.04329829 0.05707123 0.04588574 0.02385553\n",
      " 0.0531788  0.05001447 0.02307699 0.04495506 0.04177198 0.05612257\n",
      " 0.04247999 0.01333379 0.04711137 0.04607613 0.01247414 0.04273465\n",
      " 0.05192853 0.04272824]\n",
      "2. best train parameter......................\n",
      "\t {'max_depth': 10, 'n_estimators': 180}\n",
      "3. best train score..........................\n",
      "\t 0.523737630359939\n",
      "\n",
      "\n",
      "4. ROC-AUC...................................\n",
      "\t 0.5\n",
      "5. f1 score..................................\n",
      "\t 0.0\n",
      "6. Confusion matrix..........................\n",
      "[[665   0]\n",
      " [247   0]]\n",
      "7. Classify report...........................\n",
      "             precision    recall  f1-score   support\n",
      "\n",
      "          0       0.73      1.00      0.84       665\n",
      "          1       0.00      0.00      0.00       247\n",
      "\n",
      "avg / total       0.53      0.73      0.61       912\n",
      "\n",
      "8. Accuracy score............................\n",
      "\t 0.7291666666666666\n",
      "\n",
      "\n",
      "--------------------------------------------------\n",
      "Loop:  5\n"
     ]
    },
    {
     "name": "stderr",
     "output_type": "stream",
     "text": [
      "/home/ubuntu/anaconda3/envs/python3/lib/python3.6/site-packages/sklearn/metrics/classification.py:1135: UndefinedMetricWarning: F-score is ill-defined and being set to 0.0 due to no predicted samples.\n",
      "  'precision', 'predicted', average, warn_for)\n",
      "/home/ubuntu/anaconda3/envs/python3/lib/python3.6/site-packages/sklearn/metrics/classification.py:1135: UndefinedMetricWarning: Precision and F-score are ill-defined and being set to 0.0 in labels with no predicted samples.\n",
      "  'precision', 'predicted', average, warn_for)\n"
     ]
    },
    {
     "data": {
      "image/png": "[encoded data removed]",
      "text/plain": [
       "<Figure size 432x432 with 1 Axes>"
      ]
     },
     "metadata": {},
     "output_type": "display_data"
    },
    {
     "name": "stdout",
     "output_type": "stream",
     "text": [
      "1. Feature Importances.......................\n",
      "\t [0.04730155 0.04709401 0.01028143 0.04485277 0.00874246 0.01365633\n",
      " 0.04614453 0.04650399 0.04495399 0.05155651 0.05252268 0.02496773\n",
      " 0.05175725 0.05279756 0.0258169  0.05022696 0.04182313 0.04721383\n",
      " 0.04688284 0.01407919 0.04413277 0.04290312 0.00957582 0.04386159\n",
      " 0.04581273 0.04453832]\n",
      "2. best train parameter......................\n",
      "\t {'max_depth': 80, 'n_estimators': 60}\n",
      "3. best train score..........................\n",
      "\t 0.5165323562859042\n",
      "\n",
      "\n",
      "4. ROC-AUC...................................\n",
      "\t 0.4978165938864629\n",
      "5. f1 score..................................\n",
      "\t 0.0\n",
      "6. Confusion matrix..........................\n",
      "[[684   3]\n",
      " [225   0]]\n",
      "7. Classify report...........................\n",
      "             precision    recall  f1-score   support\n",
      "\n",
      "          0       0.75      1.00      0.86       687\n",
      "          1       0.00      0.00      0.00       225\n",
      "\n",
      "avg / total       0.57      0.75      0.65       912\n",
      "\n",
      "8. Accuracy score............................\n",
      "\t 0.75\n"
     ]
    }
   ],
   "source": [
    "import os\n",
    "inner_cv = KFold(n_splits = k_fold, shuffle=False, random_state = 123)\n",
    "outer_cv = KFold(n_splits = k_fold, shuffle=False, random_state = 123)\n",
    "loop=1\n",
    "for train_index, test_index in outer_cv.split(X, y):\n",
    "    print('\\n')\n",
    "    print('-'*50)\n",
    "    print('Loop: ', loop)\n",
    "    \n",
    "    X_train, X_test = X[train_index], X[test_index]\n",
    "    y_train, y_test = y[train_index], y[test_index]\n",
    "\n",
    "    #No Tuning\n",
    "#     rf = RandomForestClassifier(n_estimators= 100, min_samples_leaf=5)\n",
    "#     rf.fit(X_train, y_train)\n",
    "#     y_pred = rf.predict(X_test)\n",
    "    \n",
    "    #Tuning\n",
    "    params = {'n_estimators': np.arange(20, 200, 20),\n",
    "              'max_depth': np.arange(10, 100, 10)}\n",
    "    rf_grid = GridSearchCV(estimator = rf, param_grid = params, cv = inner_cv, scoring='roc_auc', n_jobs=-1, return_train_score=True)\n",
    "    rf_grid.fit(X_train, y_train)\n",
    "    y_pred=rf_grid.predict(X_test)\n",
    "    \n",
    "    result = pd.DataFrame(rf_grid.cv_results_)[['mean_test_score', 'std_test_score', 'params']]\n",
    "    if not os.path.exists(\"./TuningResult/\"):\n",
    "        os.mkdir(\"./TuningResult/\")\n",
    "    filename = \"TuningResult/KSAD_6_HT\"+str(loop)+\".csv\"\n",
    "    result.to_csv(filename, index=False)\n",
    "    \n",
    "    best_est = rf_grid.best_estimator_\n",
    "    plot_feature_importances(best_est)\n",
    "    \n",
    "    print(\"{:.<45}\".format(\"1. Feature Importances\"))\n",
    "    print(\"\\t\",best_est.feature_importances_)\n",
    "    \n",
    "    print(\"{:.<45}\".format(\"2. best train parameter\"))\n",
    "    print(\"\\t\",rf_grid.best_params_)\n",
    "    print(\"{:.<45}\".format(\"3. best train score\"))\n",
    "    print(\"\\t\",rf_grid.best_score_)\n",
    "    \n",
    "    print(\"\\n\")\n",
    "    false_positive_rate, true_positive_rate, thresholds = roc_curve(y_test, y_pred)\n",
    "    roc_auc = auc(false_positive_rate, true_positive_rate)\n",
    "    print(\"{:.<45}\".format(\"4. ROC-AUC\"))\n",
    "    print(\"\\t\",roc_auc)\n",
    "    \n",
    "    f1 = f1_score(y_test, y_pred, average='binary')\n",
    "    print(\"{:.<45}\".format(\"5. f1 score\"))\n",
    "    print(\"\\t\",f1)\n",
    "    print(\"{:.<45}\".format(\"6. Confusion matrix\"))\n",
    "    print(confusion_matrix(y_test, y_pred))\n",
    "    print(\"{:.<45}\".format(\"7. Classify report\"))\n",
    "    print(classification_report(y_test, y_pred))\n",
    "    print(\"{:.<45}\".format(\"8. Accuracy score\"))\n",
    "    print(\"\\t\",accuracy_score(y_test, y_pred))\n",
    "    \n",
    "    loop += 1"
   ]
  },
  {
   "cell_type": "code",
   "execution_count": null,
   "metadata": {},
   "outputs": [],
   "source": []
  }
 ],
 "metadata": {
  "kernelspec": {
   "display_name": "Environment (conda_python3)",
   "language": "python",
   "name": "conda_python3"
  },
  "language_info": {
   "codemirror_mode": {
    "name": "ipython",
    "version": 3
   },
   "file_extension": ".py",
   "mimetype": "text/x-python",
   "name": "python",
   "nbconvert_exporter": "python",
   "pygments_lexer": "ipython3",
   "version": "3.6.5"
  }
 },
 "nbformat": 4,
 "nbformat_minor": 2
}
