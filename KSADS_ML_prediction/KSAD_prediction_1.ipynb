{
 "cells": [
  {
   "cell_type": "markdown",
   "metadata": {},
   "source": [
    "##### <strong>Target:</strong>\n",
    "- 'Binge.Eating.Disorder'\n",
    "\n",
    "##### <strong>Parameters:</strong>\n",
    "1. Cross Validation nubmer: 5 (just inner loop for quick result)\n",
    "2. n_estimator: 100\n",
    "3. max_depth: 5"
   ]
  },
  {
   "cell_type": "code",
   "execution_count": 1,
   "metadata": {},
   "outputs": [],
   "source": [
    "import numpy as np\n",
    "import pandas as pd\n",
    "import matplotlib.pyplot as plt"
   ]
  },
  {
   "cell_type": "code",
   "execution_count": 2,
   "metadata": {},
   "outputs": [],
   "source": [
    "from sklearn.ensemble import RandomForestRegressor, RandomForestClassifier\n",
    "from sklearn.model_selection import KFold, StratifiedKFold, GridSearchCV, RandomizedSearchCV\n",
    "from sklearn.metrics import r2_score, classification_report, confusion_matrix, accuracy_score, log_loss"
   ]
  },
  {
   "cell_type": "markdown",
   "metadata": {},
   "source": [
    "#### 1. Raw GPS data"
   ]
  },
  {
   "cell_type": "code",
   "execution_count": 3,
   "metadata": {},
   "outputs": [
    {
     "data": {
      "text/plain": [
       "4567"
      ]
     },
     "execution_count": 3,
     "metadata": {},
     "output_type": "execute_result"
    }
   ],
   "source": [
    "my_data = pd.read_csv('/home/ubuntu/SEOYOON/KSAD/KSAD_GPS_TOTAL_v2.csv', header=0)\n",
    "my_data['KEY'] = my_data['KEY'].astype(str)\n",
    "len(my_data)"
   ]
  },
  {
   "cell_type": "code",
   "execution_count": 4,
   "metadata": {
    "scrolled": true
   },
   "outputs": [
    {
     "data": {
      "text/plain": [
       "4521"
      ]
     },
     "execution_count": 4,
     "metadata": {},
     "output_type": "execute_result"
    }
   ],
   "source": [
    "target = 'Binge.Eating.Disorder'\n",
    "my_data = my_data.dropna(subset=[target])\n",
    "len(my_data)"
   ]
  },
  {
   "cell_type": "markdown",
   "metadata": {},
   "source": [
    "#### CONSTANTS:"
   ]
  },
  {
   "cell_type": "code",
   "execution_count": 5,
   "metadata": {},
   "outputs": [
    {
     "name": "stdout",
     "output_type": "stream",
     "text": [
      "num_samples:  4521\n",
      "fold_size:  905\n"
     ]
    }
   ],
   "source": [
    "k_fold = 5\n",
    "\n",
    "num_samples = len(my_data)\n",
    "each_fold_size = int(num_samples/k_fold) +1\n",
    "\n",
    "print('num_samples: ', num_samples)\n",
    "print('fold_size: ', each_fold_size)"
   ]
  },
  {
   "cell_type": "markdown",
   "metadata": {},
   "source": [
    "#### PARAMETERS:"
   ]
  },
  {
   "cell_type": "code",
   "execution_count": 6,
   "metadata": {},
   "outputs": [
    {
     "data": {
      "text/html": [
       "<div>\n",
       "<style scoped>\n",
       "    .dataframe tbody tr th:only-of-type {\n",
       "        vertical-align: middle;\n",
       "    }\n",
       "\n",
       "    .dataframe tbody tr th {\n",
       "        vertical-align: top;\n",
       "    }\n",
       "\n",
       "    .dataframe thead th {\n",
       "        text-align: right;\n",
       "    }\n",
       "</style>\n",
       "<table border=\"1\" class=\"dataframe\">\n",
       "  <thead>\n",
       "    <tr style=\"text-align: right;\">\n",
       "      <th></th>\n",
       "      <th>AD</th>\n",
       "      <th>ADHD</th>\n",
       "      <th>ASD</th>\n",
       "      <th>ASP</th>\n",
       "      <th>BIP</th>\n",
       "      <th>BMI</th>\n",
       "      <th>CANNABIS</th>\n",
       "      <th>CP</th>\n",
       "      <th>DEPRESSION</th>\n",
       "      <th>DRINK</th>\n",
       "      <th>...</th>\n",
       "      <th>IQ</th>\n",
       "      <th>MDD</th>\n",
       "      <th>NEUROTICISM</th>\n",
       "      <th>PTSD</th>\n",
       "      <th>RISK4PC</th>\n",
       "      <th>RISKTOL</th>\n",
       "      <th>SCZ</th>\n",
       "      <th>SMOKER</th>\n",
       "      <th>SNORING</th>\n",
       "      <th>WORRY</th>\n",
       "    </tr>\n",
       "  </thead>\n",
       "  <tbody>\n",
       "    <tr>\n",
       "      <th>0</th>\n",
       "      <td>-5.780160</td>\n",
       "      <td>0.000318</td>\n",
       "      <td>-0.368089</td>\n",
       "      <td>-0.583751</td>\n",
       "      <td>0.003292</td>\n",
       "      <td>0.004191</td>\n",
       "      <td>-5.988192</td>\n",
       "      <td>-2.156561</td>\n",
       "      <td>0.002583</td>\n",
       "      <td>-0.106358</td>\n",
       "      <td>...</td>\n",
       "      <td>-2.917600</td>\n",
       "      <td>-2.412027</td>\n",
       "      <td>0.013433</td>\n",
       "      <td>0.000000</td>\n",
       "      <td>0.233276</td>\n",
       "      <td>-0.363054</td>\n",
       "      <td>-0.368089</td>\n",
       "      <td>0.022038</td>\n",
       "      <td>0.063292</td>\n",
       "      <td>-0.000821</td>\n",
       "    </tr>\n",
       "    <tr>\n",
       "      <th>1</th>\n",
       "      <td>9.133668</td>\n",
       "      <td>-0.008823</td>\n",
       "      <td>0.000000</td>\n",
       "      <td>-0.544655</td>\n",
       "      <td>0.003292</td>\n",
       "      <td>0.004191</td>\n",
       "      <td>-3.063278</td>\n",
       "      <td>-3.683131</td>\n",
       "      <td>0.002060</td>\n",
       "      <td>-0.161727</td>\n",
       "      <td>...</td>\n",
       "      <td>0.369931</td>\n",
       "      <td>1.223589</td>\n",
       "      <td>0.000064</td>\n",
       "      <td>0.017525</td>\n",
       "      <td>0.130802</td>\n",
       "      <td>-0.320289</td>\n",
       "      <td>0.000000</td>\n",
       "      <td>-0.169713</td>\n",
       "      <td>0.021098</td>\n",
       "      <td>-0.001469</td>\n",
       "    </tr>\n",
       "    <tr>\n",
       "      <th>2</th>\n",
       "      <td>2.059180</td>\n",
       "      <td>-0.005448</td>\n",
       "      <td>0.000000</td>\n",
       "      <td>-0.601716</td>\n",
       "      <td>0.003292</td>\n",
       "      <td>0.000000</td>\n",
       "      <td>-10.187523</td>\n",
       "      <td>-4.160142</td>\n",
       "      <td>0.006631</td>\n",
       "      <td>-0.402164</td>\n",
       "      <td>...</td>\n",
       "      <td>-4.261953</td>\n",
       "      <td>-1.434531</td>\n",
       "      <td>0.012193</td>\n",
       "      <td>0.010899</td>\n",
       "      <td>-0.271698</td>\n",
       "      <td>0.390031</td>\n",
       "      <td>0.000000</td>\n",
       "      <td>-0.088810</td>\n",
       "      <td>0.037388</td>\n",
       "      <td>-0.016278</td>\n",
       "    </tr>\n",
       "    <tr>\n",
       "      <th>3</th>\n",
       "      <td>8.591499</td>\n",
       "      <td>0.000838</td>\n",
       "      <td>0.000000</td>\n",
       "      <td>-0.068964</td>\n",
       "      <td>0.003292</td>\n",
       "      <td>0.000000</td>\n",
       "      <td>-0.944047</td>\n",
       "      <td>-4.682147</td>\n",
       "      <td>0.004259</td>\n",
       "      <td>-0.947712</td>\n",
       "      <td>...</td>\n",
       "      <td>-2.582771</td>\n",
       "      <td>-1.689643</td>\n",
       "      <td>0.013623</td>\n",
       "      <td>0.019801</td>\n",
       "      <td>-0.183950</td>\n",
       "      <td>-0.037689</td>\n",
       "      <td>0.000000</td>\n",
       "      <td>-0.110845</td>\n",
       "      <td>0.022991</td>\n",
       "      <td>0.000487</td>\n",
       "    </tr>\n",
       "    <tr>\n",
       "      <th>4</th>\n",
       "      <td>3.104598</td>\n",
       "      <td>-0.012818</td>\n",
       "      <td>0.000000</td>\n",
       "      <td>-1.211318</td>\n",
       "      <td>0.000000</td>\n",
       "      <td>0.000000</td>\n",
       "      <td>-10.269615</td>\n",
       "      <td>-4.843486</td>\n",
       "      <td>0.000878</td>\n",
       "      <td>-0.997582</td>\n",
       "      <td>...</td>\n",
       "      <td>-3.145087</td>\n",
       "      <td>0.943200</td>\n",
       "      <td>0.013695</td>\n",
       "      <td>0.000000</td>\n",
       "      <td>-0.074910</td>\n",
       "      <td>0.404019</td>\n",
       "      <td>0.000000</td>\n",
       "      <td>-0.183223</td>\n",
       "      <td>-0.008245</td>\n",
       "      <td>-0.013129</td>\n",
       "    </tr>\n",
       "  </tbody>\n",
       "</table>\n",
       "<p>5 rows × 26 columns</p>\n",
       "</div>"
      ],
      "text/plain": [
       "         AD      ADHD       ASD       ASP       BIP       BMI   CANNABIS  \\\n",
       "0 -5.780160  0.000318 -0.368089 -0.583751  0.003292  0.004191  -5.988192   \n",
       "1  9.133668 -0.008823  0.000000 -0.544655  0.003292  0.004191  -3.063278   \n",
       "2  2.059180 -0.005448  0.000000 -0.601716  0.003292  0.000000 -10.187523   \n",
       "3  8.591499  0.000838  0.000000 -0.068964  0.003292  0.000000  -0.944047   \n",
       "4  3.104598 -0.012818  0.000000 -1.211318  0.000000  0.000000 -10.269615   \n",
       "\n",
       "         CP  DEPRESSION     DRINK  ...        IQ       MDD  NEUROTICISM  \\\n",
       "0 -2.156561    0.002583 -0.106358  ... -2.917600 -2.412027     0.013433   \n",
       "1 -3.683131    0.002060 -0.161727  ...  0.369931  1.223589     0.000064   \n",
       "2 -4.160142    0.006631 -0.402164  ... -4.261953 -1.434531     0.012193   \n",
       "3 -4.682147    0.004259 -0.947712  ... -2.582771 -1.689643     0.013623   \n",
       "4 -4.843486    0.000878 -0.997582  ... -3.145087  0.943200     0.013695   \n",
       "\n",
       "       PTSD   RISK4PC   RISKTOL       SCZ    SMOKER   SNORING     WORRY  \n",
       "0  0.000000  0.233276 -0.363054 -0.368089  0.022038  0.063292 -0.000821  \n",
       "1  0.017525  0.130802 -0.320289  0.000000 -0.169713  0.021098 -0.001469  \n",
       "2  0.010899 -0.271698  0.390031  0.000000 -0.088810  0.037388 -0.016278  \n",
       "3  0.019801 -0.183950 -0.037689  0.000000 -0.110845  0.022991  0.000487  \n",
       "4  0.000000 -0.074910  0.404019  0.000000 -0.183223 -0.008245 -0.013129  \n",
       "\n",
       "[5 rows x 26 columns]"
      ]
     },
     "execution_count": 6,
     "metadata": {},
     "output_type": "execute_result"
    }
   ],
   "source": [
    "X = my_data.iloc[:, 1:27]\n",
    "features = X.columns\n",
    "X.head()"
   ]
  },
  {
   "cell_type": "code",
   "execution_count": 7,
   "metadata": {},
   "outputs": [
    {
     "data": {
      "text/plain": [
       "0    0.0\n",
       "1    0.0\n",
       "2    0.0\n",
       "3    0.0\n",
       "4    0.0\n",
       "Name: Binge.Eating.Disorder, dtype: object"
      ]
     },
     "execution_count": 7,
     "metadata": {},
     "output_type": "execute_result"
    }
   ],
   "source": [
    "y = my_data[target].astype(str)\n",
    "y.head()"
   ]
  },
  {
   "cell_type": "code",
   "execution_count": 8,
   "metadata": {
    "scrolled": true
   },
   "outputs": [],
   "source": [
    "X = X.to_numpy()\n",
    "y = y.to_numpy().ravel()"
   ]
  },
  {
   "cell_type": "code",
   "execution_count": 9,
   "metadata": {},
   "outputs": [],
   "source": [
    "def plot_feature_importances(model):\n",
    "    n_features = len(features)\n",
    "    plt.figure(figsize=(10,10))\n",
    "    plt.barh(range(n_features), model.feature_importances_, align='center')\n",
    "    plt.yticks(np.arange(n_features), features)\n",
    "    plt.xlabel(\"Feature Importances\")\n",
    "    plt.ylabel(\"Features\")\n",
    "    plt.ylim(-1, n_features)\n",
    "    plt.show()"
   ]
  },
  {
   "cell_type": "code",
   "execution_count": 10,
   "metadata": {
    "scrolled": false
   },
   "outputs": [
    {
     "name": "stdout",
     "output_type": "stream",
     "text": [
      "----------------------------\n",
      "k fold:  0\n",
      "[[0.99779202 0.00220798]\n",
      " [0.99701313 0.00298687]\n",
      " [0.99498762 0.00501238]\n",
      " ...\n",
      " [0.9977368  0.0022632 ]\n",
      " [0.99350483 0.00649517]\n",
      " [0.99737429 0.00262571]]\n"
     ]
    },
    {
     "data": {
      "image/png": "[encoded data removed]",
      "text/plain": [
       "<Figure size 720x720 with 1 Axes>"
      ]
     },
     "metadata": {},
     "output_type": "display_data"
    },
    {
     "name": "stdout",
     "output_type": "stream",
     "text": [
      "Feature Importances:\n",
      "[0.0711514  0.05976696 0.01277848 0.04021473 0.00660311 0.00932957\n",
      " 0.02359733 0.05114768 0.04252965 0.03036186 0.08065571 0.03617151\n",
      " 0.05291202 0.06544173 0.01981531 0.02996291 0.06381924 0.03890724\n",
      " 0.0405475  0.01729338 0.03721744 0.03173445 0.00561641 0.04472474\n",
      " 0.05113483 0.03656481]\n",
      "\n",
      "\n",
      "Train Accuracy Score:  0.014734622199967257\n",
      "Test Accuracy Score:  0.03781024397598537\n",
      "----------------------------\n",
      "----------------------------\n",
      "k fold:  0\n",
      "[[0.99753748 0.00246252]\n",
      " [0.99766819 0.00233181]\n",
      " [0.99264685 0.00735315]\n",
      " ...\n",
      " [0.99769991 0.00230009]\n",
      " [0.99196789 0.00803211]\n",
      " [0.99612597 0.00387403]]\n"
     ]
    },
    {
     "data": {
      "image/png": "[encoded data removed]",
      "text/plain": [
       "<Figure size 720x720 with 1 Axes>"
      ]
     },
     "metadata": {},
     "output_type": "display_data"
    },
    {
     "name": "stdout",
     "output_type": "stream",
     "text": [
      "Feature Importances:\n",
      "[0.06135605 0.04405896 0.01134374 0.04612714 0.00865257 0.01200147\n",
      " 0.05648706 0.03828857 0.04146449 0.03839875 0.08881763 0.01259635\n",
      " 0.02747356 0.07773781 0.03952334 0.02219518 0.05832393 0.03905086\n",
      " 0.03384104 0.01353014 0.03078445 0.03803293 0.01362733 0.04429451\n",
      " 0.07341034 0.02858178]\n",
      "\n",
      "\n",
      "Train Accuracy Score:  0.014009016136634576\n",
      "Test Accuracy Score:  0.04372519399920054\n",
      "----------------------------\n",
      "----------------------------\n",
      "k fold:  0\n",
      "[[0.99770886 0.00229114]\n",
      " [0.99622874 0.00377126]\n",
      " [0.99734631 0.00265369]\n",
      " ...\n",
      " [0.99791587 0.00208413]\n",
      " [0.99240674 0.00759326]\n",
      " [0.9955575  0.0044425 ]]\n"
     ]
    },
    {
     "data": {
      "image/png": "[encoded data removed]",
      "text/plain": [
       "<Figure size 720x720 with 1 Axes>"
      ]
     },
     "metadata": {},
     "output_type": "display_data"
    },
    {
     "name": "stdout",
     "output_type": "stream",
     "text": [
      "Feature Importances:\n",
      "[0.07543035 0.05200971 0.00818164 0.031408   0.01448254 0.01383127\n",
      " 0.03783944 0.03712803 0.03775265 0.02768582 0.08691563 0.01761871\n",
      " 0.05698467 0.08918461 0.03356269 0.02427086 0.05370543 0.06220504\n",
      " 0.03478592 0.01471999 0.02133037 0.03727157 0.01203305 0.03898168\n",
      " 0.05774934 0.02293097]\n",
      "\n",
      "\n",
      "Train Accuracy Score:  0.014483328252594982\n",
      "Test Accuracy Score:  0.04100609436774074\n",
      "----------------------------\n",
      "----------------------------\n",
      "k fold:  0\n",
      "[[0.99645457 0.00354543]\n",
      " [0.99728366 0.00271634]\n",
      " [0.9822172  0.0177828 ]\n",
      " ...\n",
      " [0.99762597 0.00237403]\n",
      " [0.99562476 0.00437524]\n",
      " [0.99332911 0.00667089]]\n"
     ]
    },
    {
     "data": {
      "image/png": "[encoded data removed]",
      "text/plain": [
       "<Figure size 720x720 with 1 Axes>"
      ]
     },
     "metadata": {},
     "output_type": "display_data"
    },
    {
     "name": "stdout",
     "output_type": "stream",
     "text": [
      "Feature Importances:\n",
      "[0.06817996 0.05050502 0.01282876 0.04959135 0.00900143 0.0115776\n",
      " 0.03861904 0.02923056 0.04161189 0.03839611 0.10601683 0.01406826\n",
      " 0.06633503 0.06857184 0.03074845 0.03927613 0.05633074 0.0511371\n",
      " 0.01528589 0.01201423 0.03594519 0.03575548 0.01253414 0.03215553\n",
      " 0.04384833 0.03043513]\n",
      "\n",
      "\n",
      "Train Accuracy Score:  0.015376536563266513\n",
      "Test Accuracy Score:  0.04351658573168512\n",
      "----------------------------\n",
      "----------------------------\n",
      "k fold:  0\n",
      "[[0.98715003 0.01284997]\n",
      " [0.99649448 0.00350552]\n",
      " [0.99563    0.00437   ]\n",
      " ...\n",
      " [0.99290103 0.00709897]\n",
      " [0.99197992 0.00802008]\n",
      " [0.99821719 0.00178281]]\n"
     ]
    },
    {
     "data": {
      "image/png": "[encoded data removed]",
      "text/plain": [
       "<Figure size 720x720 with 1 Axes>"
      ]
     },
     "metadata": {},
     "output_type": "display_data"
    },
    {
     "name": "stdout",
     "output_type": "stream",
     "text": [
      "Feature Importances:\n",
      "[0.04029995 0.04112642 0.01257192 0.05104396 0.01482465 0.02181812\n",
      " 0.0287738  0.02751377 0.0332527  0.04608659 0.08980544 0.01723161\n",
      " 0.04228312 0.08705524 0.04564486 0.04064005 0.04624498 0.06130812\n",
      " 0.01827978 0.01399667 0.04527978 0.01459368 0.0226236  0.05622198\n",
      " 0.03709081 0.04438838]\n",
      "\n",
      "\n",
      "Train Accuracy Score:  0.015448522506827125\n",
      "Test Accuracy Score:  0.035490855338061365\n",
      "----------------------------\n"
     ]
    }
   ],
   "source": [
    "index_split = StratifiedKFold(n_splits=k_fold, random_state=123)\n",
    "\n",
    "loop=0\n",
    "for train_index, test_index in index_split.split(X, y):\n",
    "    print('----------------------------')\n",
    "    print('k fold: ', loop)\n",
    "    \n",
    "    train_index, test_index\n",
    "    \n",
    "    X_train, X_test = X[train_index], X[test_index]\n",
    "    y_train, y_test = y[train_index], y[test_index]\n",
    "    \n",
    "    rf = RandomForestClassifier(n_estimators=100, max_depth=5)\n",
    "    \n",
    "    rf.fit(X_train, y_train)\n",
    "    y_pred_test = rf.predict_proba(X_test)\n",
    "    y_pred_train = rf.predict_proba(X_train)\n",
    "    print(y_pred_train)\n",
    "    plot_feature_importances(rf)\n",
    "    \n",
    "    print(\"Feature Importances:\\n{}\".format(rf.feature_importances_))\n",
    "\n",
    "    print('\\n')\n",
    "    print('Train Accuracy Score: ', log_loss(y_train, y_pred_train))\n",
    "#     print('Classification Report: ', classification_report(y_test, y_pred_test))\n",
    "#     print('Confusion Matrix: ', confusion_matrix(y_test, y_pred_test))\n",
    "    print('Test Accuracy Score: ', log_loss(y_test, y_pred_test))\n",
    "    print('----------------------------')"
   ]
  },
  {
   "cell_type": "markdown",
   "metadata": {},
   "source": [
    "Reference: https://medium.com/@hjhuney/implementing-a-random-forest-classification-model-in-python-583891c99652"
   ]
  },
  {
   "cell_type": "code",
   "execution_count": 16,
   "metadata": {
    "scrolled": false
   },
   "outputs": [
    {
     "name": "stdout",
     "output_type": "stream",
     "text": [
      "----------------------------\n",
      "k fold:  0\n",
      "=== Confusion Matrix ===\n",
      "[[899   0]\n",
      " [  6   0]]\n",
      "\n",
      "\n",
      "=== Classification Report ===\n",
      "             precision    recall  f1-score   support\n",
      "\n",
      "        0.0       0.99      1.00      1.00       899\n",
      "        1.0       0.00      0.00      0.00         6\n",
      "\n",
      "avg / total       0.99      0.99      0.99       905\n",
      "\n",
      "\n",
      "\n",
      "=== Accuracy Score ===\n",
      "0.9933701657458563\n",
      "----------------------------\n",
      "k fold:  0\n"
     ]
    },
    {
     "name": "stderr",
     "output_type": "stream",
     "text": [
      "/home/ubuntu/anaconda3/envs/python3/lib/python3.6/site-packages/sklearn/metrics/classification.py:1135: UndefinedMetricWarning: Precision and F-score are ill-defined and being set to 0.0 in labels with no predicted samples.\n",
      "  'precision', 'predicted', average, warn_for)\n"
     ]
    },
    {
     "name": "stdout",
     "output_type": "stream",
     "text": [
      "=== Confusion Matrix ===\n",
      "[[899   0]\n",
      " [  6   0]]\n",
      "\n",
      "\n",
      "=== Classification Report ===\n",
      "             precision    recall  f1-score   support\n",
      "\n",
      "        0.0       0.99      1.00      1.00       899\n",
      "        1.0       0.00      0.00      0.00         6\n",
      "\n",
      "avg / total       0.99      0.99      0.99       905\n",
      "\n",
      "\n",
      "\n",
      "=== Accuracy Score ===\n",
      "0.9933701657458563\n",
      "----------------------------\n",
      "k fold:  0\n"
     ]
    },
    {
     "name": "stderr",
     "output_type": "stream",
     "text": [
      "/home/ubuntu/anaconda3/envs/python3/lib/python3.6/site-packages/sklearn/metrics/classification.py:1135: UndefinedMetricWarning: Precision and F-score are ill-defined and being set to 0.0 in labels with no predicted samples.\n",
      "  'precision', 'predicted', average, warn_for)\n"
     ]
    },
    {
     "name": "stdout",
     "output_type": "stream",
     "text": [
      "=== Confusion Matrix ===\n",
      "[[898   0]\n",
      " [  6   0]]\n",
      "\n",
      "\n",
      "=== Classification Report ===\n",
      "             precision    recall  f1-score   support\n",
      "\n",
      "        0.0       0.99      1.00      1.00       898\n",
      "        1.0       0.00      0.00      0.00         6\n",
      "\n",
      "avg / total       0.99      0.99      0.99       904\n",
      "\n",
      "\n",
      "\n",
      "=== Accuracy Score ===\n",
      "0.9933628318584071\n",
      "----------------------------\n",
      "k fold:  0\n"
     ]
    },
    {
     "name": "stderr",
     "output_type": "stream",
     "text": [
      "/home/ubuntu/anaconda3/envs/python3/lib/python3.6/site-packages/sklearn/metrics/classification.py:1135: UndefinedMetricWarning: Precision and F-score are ill-defined and being set to 0.0 in labels with no predicted samples.\n",
      "  'precision', 'predicted', average, warn_for)\n"
     ]
    },
    {
     "name": "stdout",
     "output_type": "stream",
     "text": [
      "=== Confusion Matrix ===\n",
      "[[898   0]\n",
      " [  6   0]]\n",
      "\n",
      "\n",
      "=== Classification Report ===\n",
      "             precision    recall  f1-score   support\n",
      "\n",
      "        0.0       0.99      1.00      1.00       898\n",
      "        1.0       0.00      0.00      0.00         6\n",
      "\n",
      "avg / total       0.99      0.99      0.99       904\n",
      "\n",
      "\n",
      "\n",
      "=== Accuracy Score ===\n",
      "0.9933628318584071\n",
      "----------------------------\n",
      "k fold:  0\n"
     ]
    },
    {
     "name": "stderr",
     "output_type": "stream",
     "text": [
      "/home/ubuntu/anaconda3/envs/python3/lib/python3.6/site-packages/sklearn/metrics/classification.py:1135: UndefinedMetricWarning: Precision and F-score are ill-defined and being set to 0.0 in labels with no predicted samples.\n",
      "  'precision', 'predicted', average, warn_for)\n"
     ]
    },
    {
     "name": "stdout",
     "output_type": "stream",
     "text": [
      "=== Confusion Matrix ===\n",
      "[[898   0]\n",
      " [  5   0]]\n",
      "\n",
      "\n",
      "=== Classification Report ===\n",
      "             precision    recall  f1-score   support\n",
      "\n",
      "        0.0       0.99      1.00      1.00       898\n",
      "        1.0       0.00      0.00      0.00         5\n",
      "\n",
      "avg / total       0.99      0.99      0.99       903\n",
      "\n",
      "\n",
      "\n",
      "=== Accuracy Score ===\n",
      "0.9944629014396457\n"
     ]
    },
    {
     "name": "stderr",
     "output_type": "stream",
     "text": [
      "/home/ubuntu/anaconda3/envs/python3/lib/python3.6/site-packages/sklearn/metrics/classification.py:1135: UndefinedMetricWarning: Precision and F-score are ill-defined and being set to 0.0 in labels with no predicted samples.\n",
      "  'precision', 'predicted', average, warn_for)\n"
     ]
    }
   ],
   "source": [
    "index_split = StratifiedKFold(n_splits=k_fold, random_state=123)\n",
    "from sklearn.model_selection import cross_val_score\n",
    "\n",
    "loop=0\n",
    "for train_index, test_index in index_split.split(X, y):\n",
    "    print('----------------------------')\n",
    "    print('k fold: ', loop)\n",
    "    \n",
    "    train_index, test_index\n",
    "    \n",
    "    X_train, X_test = X[train_index], X[test_index]\n",
    "    y_train, y_test = y[train_index], y[test_index]\n",
    "    \n",
    "    rf = RandomForestClassifier(n_estimators=100, max_depth=5)\n",
    "    \n",
    "    rf.fit(X_train, y_train)\n",
    "    y_pred_test = rf.predict(X_test)\n",
    "    \n",
    "#     cv_score = cross_val_score(rf, X, y, cv=5, scoring='roc_auc')\n",
    "    \n",
    "    print(\"=== Confusion Matrix ===\")\n",
    "    print(confusion_matrix(y_test, y_pred_test))\n",
    "    print('\\n')\n",
    "    print(\"=== Classification Report ===\")\n",
    "    print(classification_report(y_test, y_pred_test))\n",
    "    print('\\n')\n",
    "    print(\"=== Accuracy Score ===\")\n",
    "    print(accuracy_score(y_test, y_pred_test))\n",
    "#     print(\"=== All AUC Scores ===\")\n",
    "#     print(cv_score)\n",
    "#     print('\\n')\n",
    "#     print(\"=== Mean AUC Score ===\")\n",
    "#     print(\"Mean AUC Score - Random Forest: \", cv_score.mean())"
   ]
  },
  {
   "cell_type": "code",
   "execution_count": 1,
   "metadata": {},
   "outputs": [
    {
     "ename": "NameError",
     "evalue": "name 'my_data' is not defined",
     "output_type": "error",
     "traceback": [
      "\u001b[0;31m---------------------------------------------------------------------------\u001b[0m",
      "\u001b[0;31mNameError\u001b[0m                                 Traceback (most recent call last)",
      "\u001b[0;32m<ipython-input-1-0bc3093777e3>\u001b[0m in \u001b[0;36m<module>\u001b[0;34m()\u001b[0m\n\u001b[0;32m----> 1\u001b[0;31m \u001b[0msum\u001b[0m\u001b[0;34m(\u001b[0m\u001b[0mmy_data\u001b[0m\u001b[0;34m[\u001b[0m\u001b[0mtarget\u001b[0m\u001b[0;34m]\u001b[0m\u001b[0;34m)\u001b[0m\u001b[0;34m/\u001b[0m\u001b[0mlen\u001b[0m\u001b[0;34m(\u001b[0m\u001b[0mmy_data\u001b[0m\u001b[0;34m)\u001b[0m\u001b[0;34m*\u001b[0m\u001b[0;36m100\u001b[0m\u001b[0;34m\u001b[0m\u001b[0m\n\u001b[0m",
      "\u001b[0;31mNameError\u001b[0m: name 'my_data' is not defined"
     ]
    }
   ],
   "source": [
    "sum(my_data[target])/len(my_data)*100"
   ]
  }
 ],
 "metadata": {
  "kernelspec": {
   "display_name": "Environment (conda_python3)",
   "language": "python",
   "name": "conda_python3"
  },
  "language_info": {
   "codemirror_mode": {
    "name": "ipython",
    "version": 3
   },
   "file_extension": ".py",
   "mimetype": "text/x-python",
   "name": "python",
   "nbconvert_exporter": "python",
   "pygments_lexer": "ipython3",
   "version": "3.6.5"
  }
 },
 "nbformat": 4,
 "nbformat_minor": 2
}
