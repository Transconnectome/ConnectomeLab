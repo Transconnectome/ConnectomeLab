{
 "cells": [
  {
   "cell_type": "markdown",
   "metadata": {},
   "source": [
    "##### <strong>Target:</strong>\n",
    "- 'SuicidalideationPassive'\n",
    "- Case: 11.61%\n",
    "\n",
    "##### <strong>Parameters:</strong>\n",
    "1. Cross Validation nubmer: 5 (outer and inner)\n",
    "2. n_estimator: np.arange(20, 200, 20)\n",
    "3. max_depth: np.arange(10, 100, 10)"
   ]
  },
  {
   "cell_type": "code",
   "execution_count": 1,
   "metadata": {},
   "outputs": [],
   "source": [
    "import numpy as np\n",
    "import pandas as pd\n",
    "import matplotlib.pyplot as plt"
   ]
  },
  {
   "cell_type": "code",
   "execution_count": 2,
   "metadata": {},
   "outputs": [],
   "source": [
    "from sklearn.ensemble import RandomForestRegressor, RandomForestClassifier\n",
    "from sklearn.model_selection import KFold, StratifiedKFold, GridSearchCV, RandomizedSearchCV\n",
    "from sklearn.metrics import r2_score, classification_report, confusion_matrix, accuracy_score, log_loss"
   ]
  },
  {
   "cell_type": "markdown",
   "metadata": {},
   "source": [
    "#### 1. Raw GPS data"
   ]
  },
  {
   "cell_type": "code",
   "execution_count": 3,
   "metadata": {},
   "outputs": [
    {
     "data": {
      "text/plain": [
       "4567"
      ]
     },
     "execution_count": 3,
     "metadata": {},
     "output_type": "execute_result"
    }
   ],
   "source": [
    "my_data = pd.read_csv('/home/ubuntu/SEOYOON/KSAD/KSAD_GPS_TOTAL_v2_0to1.csv', header=0)\n",
    "my_data['KEY'] = my_data['KEY'].astype(str)\n",
    "len(my_data)"
   ]
  },
  {
   "cell_type": "code",
   "execution_count": 4,
   "metadata": {
    "scrolled": true
   },
   "outputs": [
    {
     "data": {
      "text/plain": [
       "4547"
      ]
     },
     "execution_count": 4,
     "metadata": {},
     "output_type": "execute_result"
    }
   ],
   "source": [
    "target = 'SuicidalideationPassive'\n",
    "my_data = my_data.dropna(subset=[target])\n",
    "len(my_data)"
   ]
  },
  {
   "cell_type": "code",
   "execution_count": 5,
   "metadata": {},
   "outputs": [
    {
     "name": "stdout",
     "output_type": "stream",
     "text": [
      "case number: 528.0\n",
      "case ratio: 11.61%\n"
     ]
    }
   ],
   "source": [
    "print(\"case number: {}\".format(sum(my_data[target])))\n",
    "print(\"case ratio: {:.2f}%\".format(sum(my_data[target])/len(my_data)*100))"
   ]
  },
  {
   "cell_type": "markdown",
   "metadata": {},
   "source": [
    "#### CONSTANTS:"
   ]
  },
  {
   "cell_type": "code",
   "execution_count": 6,
   "metadata": {},
   "outputs": [
    {
     "name": "stdout",
     "output_type": "stream",
     "text": [
      "num_samples:  4547\n",
      "fold_size:  910\n"
     ]
    }
   ],
   "source": [
    "k_fold = 5\n",
    "\n",
    "num_samples = len(my_data)\n",
    "each_fold_size = int(num_samples/k_fold) +1\n",
    "\n",
    "print('num_samples: ', num_samples)\n",
    "print('fold_size: ', each_fold_size)"
   ]
  },
  {
   "cell_type": "markdown",
   "metadata": {},
   "source": [
    "#### PARAMETERS:"
   ]
  },
  {
   "cell_type": "code",
   "execution_count": 7,
   "metadata": {},
   "outputs": [],
   "source": [
    "X = my_data.iloc[:, 1:27]\n",
    "features = X.columns"
   ]
  },
  {
   "cell_type": "code",
   "execution_count": 8,
   "metadata": {},
   "outputs": [],
   "source": [
    "y = my_data[target].astype(int)"
   ]
  },
  {
   "cell_type": "code",
   "execution_count": 9,
   "metadata": {
    "scrolled": true
   },
   "outputs": [],
   "source": [
    "X = X.to_numpy()\n",
    "y = y.to_numpy().ravel()"
   ]
  },
  {
   "cell_type": "code",
   "execution_count": 10,
   "metadata": {},
   "outputs": [],
   "source": [
    "def plot_feature_importances(model):\n",
    "    n_features = len(features)\n",
    "    plt.figure(figsize=(6,6))\n",
    "    plt.barh(range(n_features), model.feature_importances_, align='center')\n",
    "    plt.yticks(np.arange(n_features), features)\n",
    "    plt.xlabel(\"Feature Importances\")\n",
    "    plt.ylabel(\"Features\")\n",
    "    plt.ylim(-1, n_features)\n",
    "    plt.show()"
   ]
  },
  {
   "cell_type": "code",
   "execution_count": 11,
   "metadata": {},
   "outputs": [],
   "source": [
    "from sklearn.pipeline import Pipeline\n",
    "from sklearn.metrics import roc_auc_score, roc_curve, auc, f1_score"
   ]
  },
  {
   "cell_type": "code",
   "execution_count": 13,
   "metadata": {
    "scrolled": false
   },
   "outputs": [
    {
     "name": "stdout",
     "output_type": "stream",
     "text": [
      "\n",
      "\n",
      "--------------------------------------------------\n",
      "Loop:  1\n"
     ]
    },
    {
     "data": {
      "image/png": "[encoded data removed]",
      "text/plain": [
       "<Figure size 432x432 with 1 Axes>"
      ]
     },
     "metadata": {},
     "output_type": "display_data"
    },
    {
     "name": "stdout",
     "output_type": "stream",
     "text": [
      "1. Feature Importances.......................\n",
      "\t [0.04610176 0.04863975 0.01316817 0.04430514 0.01086515 0.01199698\n",
      " 0.05200808 0.05103774 0.04261069 0.04319724 0.04164819 0.02805242\n",
      " 0.04582323 0.05058088 0.02853513 0.04806053 0.04836931 0.0431547\n",
      " 0.04492092 0.01646549 0.04452439 0.04492696 0.01286071 0.0452413\n",
      " 0.0468757  0.04602943]\n",
      "2. best train parameter......................\n",
      "\t {'max_depth': 30, 'n_estimators': 100}\n",
      "3. best train score..........................\n",
      "\t 0.5492046817851788\n",
      "\n",
      "\n",
      "4. ROC-AUC...................................\n",
      "\t 0.49936948297604034\n",
      "5. f1 score..................................\n",
      "\t 0.0\n",
      "6. Confusion matrix..........................\n",
      "[[792   1]\n",
      " [117   0]]\n",
      "7. Classify report...........................\n",
      "             precision    recall  f1-score   support\n",
      "\n",
      "          0       0.87      1.00      0.93       793\n",
      "          1       0.00      0.00      0.00       117\n",
      "\n",
      "avg / total       0.76      0.87      0.81       910\n",
      "\n",
      "8. Accuracy score............................\n",
      "\t 0.8703296703296703\n",
      "\n",
      "\n",
      "--------------------------------------------------\n",
      "Loop:  2\n"
     ]
    },
    {
     "data": {
      "image/png": "[encoded data removed]",
      "text/plain": [
       "<Figure size 432x432 with 1 Axes>"
      ]
     },
     "metadata": {},
     "output_type": "display_data"
    },
    {
     "name": "stdout",
     "output_type": "stream",
     "text": [
      "1. Feature Importances.......................\n",
      "\t [0.04886392 0.04504558 0.01115892 0.04783854 0.00823767 0.01170214\n",
      " 0.04844308 0.05364469 0.04599547 0.04405107 0.04640484 0.02492968\n",
      " 0.04190941 0.04777321 0.03150735 0.04289547 0.04487832 0.04702731\n",
      " 0.04916265 0.01795588 0.04744075 0.04711882 0.01194592 0.04654079\n",
      " 0.043864   0.04366452]\n",
      "2. best train parameter......................\n",
      "\t {'max_depth': 20, 'n_estimators': 40}\n",
      "3. best train score..........................\n",
      "\t 0.5297855359309631\n",
      "\n",
      "\n",
      "4. ROC-AUC...................................\n",
      "\t 0.49878345498783455\n",
      "5. f1 score..................................\n",
      "\t 0.0\n",
      "6. Confusion matrix..........................\n",
      "[[820   2]\n",
      " [ 88   0]]\n",
      "7. Classify report...........................\n",
      "             precision    recall  f1-score   support\n",
      "\n",
      "          0       0.90      1.00      0.95       822\n",
      "          1       0.00      0.00      0.00        88\n",
      "\n",
      "avg / total       0.82      0.90      0.86       910\n",
      "\n",
      "8. Accuracy score............................\n",
      "\t 0.9010989010989011\n",
      "\n",
      "\n",
      "--------------------------------------------------\n",
      "Loop:  3\n"
     ]
    },
    {
     "data": {
      "image/png": "[encoded data removed]",
      "text/plain": [
       "<Figure size 432x432 with 1 Axes>"
      ]
     },
     "metadata": {},
     "output_type": "display_data"
    },
    {
     "name": "stdout",
     "output_type": "stream",
     "text": [
      "1. Feature Importances.......................\n",
      "\t [0.04842441 0.04458874 0.01248922 0.05162588 0.00944931 0.01249909\n",
      " 0.05099608 0.05036818 0.04121221 0.04346681 0.05099716 0.02892126\n",
      " 0.04369893 0.04654141 0.02742499 0.04713176 0.04012898 0.04389421\n",
      " 0.03910815 0.02179445 0.04760133 0.04401649 0.01074968 0.0485371\n",
      " 0.05229822 0.04203594]\n",
      "2. best train parameter......................\n",
      "\t {'max_depth': 20, 'n_estimators': 20}\n",
      "3. best train score..........................\n",
      "\t 0.5449394289133841\n",
      "\n",
      "\n",
      "4. ROC-AUC...................................\n",
      "\t 0.5034630366404899\n",
      "5. f1 score..................................\n",
      "\t 0.016129032258064516\n",
      "6. Confusion matrix..........................\n",
      "[[786   1]\n",
      " [121   1]]\n",
      "7. Classify report...........................\n",
      "             precision    recall  f1-score   support\n",
      "\n",
      "          0       0.87      1.00      0.93       787\n",
      "          1       0.50      0.01      0.02       122\n",
      "\n",
      "avg / total       0.82      0.87      0.81       909\n",
      "\n",
      "8. Accuracy score............................\n",
      "\t 0.8657865786578658\n",
      "\n",
      "\n",
      "--------------------------------------------------\n",
      "Loop:  4\n"
     ]
    },
    {
     "data": {
      "image/png": "[encoded data removed]",
      "text/plain": [
       "<Figure size 432x432 with 1 Axes>"
      ]
     },
     "metadata": {},
     "output_type": "display_data"
    },
    {
     "name": "stdout",
     "output_type": "stream",
     "text": [
      "1. Feature Importances.......................\n",
      "\t [0.04719019 0.05114214 0.01514848 0.04413293 0.01132048 0.01349655\n",
      " 0.04429279 0.04830778 0.04214916 0.04345565 0.04658726 0.02955172\n",
      " 0.04517947 0.04278235 0.02944146 0.0459003  0.05212184 0.04986043\n",
      " 0.04812902 0.01437279 0.04663629 0.04056612 0.01352429 0.042818\n",
      " 0.04535007 0.04654245]\n",
      "2. best train parameter......................\n",
      "\t {'max_depth': 80, 'n_estimators': 40}\n",
      "3. best train score..........................\n",
      "\t 0.5387886209108163\n",
      "\n",
      "\n",
      "4. ROC-AUC...................................\n",
      "\t 0.5\n",
      "5. f1 score..................................\n",
      "\t 0.0\n",
      "6. Confusion matrix..........................\n",
      "[[809   0]\n",
      " [100   0]]\n",
      "7. Classify report...........................\n",
      "             precision    recall  f1-score   support\n",
      "\n",
      "          0       0.89      1.00      0.94       809\n",
      "          1       0.00      0.00      0.00       100\n",
      "\n",
      "avg / total       0.79      0.89      0.84       909\n",
      "\n",
      "8. Accuracy score............................\n",
      "\t 0.88998899889989\n",
      "\n",
      "\n",
      "--------------------------------------------------\n",
      "Loop:  5\n"
     ]
    },
    {
     "name": "stderr",
     "output_type": "stream",
     "text": [
      "/home/ubuntu/anaconda3/envs/python3/lib/python3.6/site-packages/sklearn/metrics/classification.py:1135: UndefinedMetricWarning: F-score is ill-defined and being set to 0.0 due to no predicted samples.\n",
      "  'precision', 'predicted', average, warn_for)\n",
      "/home/ubuntu/anaconda3/envs/python3/lib/python3.6/site-packages/sklearn/metrics/classification.py:1135: UndefinedMetricWarning: Precision and F-score are ill-defined and being set to 0.0 in labels with no predicted samples.\n",
      "  'precision', 'predicted', average, warn_for)\n"
     ]
    },
    {
     "data": {
      "image/png": "[encoded data removed]",
      "text/plain": [
       "<Figure size 432x432 with 1 Axes>"
      ]
     },
     "metadata": {},
     "output_type": "display_data"
    },
    {
     "name": "stdout",
     "output_type": "stream",
     "text": [
      "1. Feature Importances.......................\n",
      "\t [0.04653058 0.05156394 0.01178244 0.04906029 0.00975219 0.01256337\n",
      " 0.04591683 0.04406266 0.04403615 0.04856975 0.03979284 0.02768444\n",
      " 0.04401245 0.04878423 0.02988349 0.05022278 0.04691179 0.04627968\n",
      " 0.04518327 0.01664064 0.04593719 0.04453211 0.01559354 0.04843616\n",
      " 0.04244366 0.04382353]\n",
      "2. best train parameter......................\n",
      "\t {'max_depth': 20, 'n_estimators': 60}\n",
      "3. best train score..........................\n",
      "\t 0.5331996691358977\n",
      "\n",
      "\n",
      "4. ROC-AUC...................................\n",
      "\t 0.5\n",
      "5. f1 score..................................\n",
      "\t 0.0\n",
      "6. Confusion matrix..........................\n",
      "[[808   0]\n",
      " [101   0]]\n",
      "7. Classify report...........................\n",
      "             precision    recall  f1-score   support\n",
      "\n",
      "          0       0.89      1.00      0.94       808\n",
      "          1       0.00      0.00      0.00       101\n",
      "\n",
      "avg / total       0.79      0.89      0.84       909\n",
      "\n",
      "8. Accuracy score............................\n",
      "\t 0.8888888888888888\n"
     ]
    },
    {
     "name": "stderr",
     "output_type": "stream",
     "text": [
      "/home/ubuntu/anaconda3/envs/python3/lib/python3.6/site-packages/sklearn/metrics/classification.py:1135: UndefinedMetricWarning: F-score is ill-defined and being set to 0.0 due to no predicted samples.\n",
      "  'precision', 'predicted', average, warn_for)\n",
      "/home/ubuntu/anaconda3/envs/python3/lib/python3.6/site-packages/sklearn/metrics/classification.py:1135: UndefinedMetricWarning: Precision and F-score are ill-defined and being set to 0.0 in labels with no predicted samples.\n",
      "  'precision', 'predicted', average, warn_for)\n"
     ]
    }
   ],
   "source": [
    "import os\n",
    "inner_cv = KFold(n_splits = k_fold, shuffle=False, random_state = 123)\n",
    "outer_cv = KFold(n_splits = k_fold, shuffle=False, random_state = 123)\n",
    "loop=1\n",
    "for train_index, test_index in outer_cv.split(X, y):\n",
    "    print('\\n')\n",
    "    print('-'*50)\n",
    "    print('Loop: ', loop)\n",
    "    \n",
    "    X_train, X_test = X[train_index], X[test_index]\n",
    "    y_train, y_test = y[train_index], y[test_index]\n",
    "\n",
    "    #No Tuning\n",
    "#     rf = RandomForestClassifier(n_estimators= 100, min_samples_leaf=5)\n",
    "#     rf.fit(X_train, y_train)\n",
    "#     y_pred = rf.predict(X_test)\n",
    "    \n",
    "    #Tuning\n",
    "    rf = RandomForestClassifier()\n",
    "    params = {'n_estimators': np.arange(20, 200, 20),\n",
    "              'max_depth': np.arange(10, 100, 10)}\n",
    "    rf_grid = GridSearchCV(estimator = rf, param_grid = params, cv = inner_cv, scoring='roc_auc', n_jobs=-1, return_train_score=True)\n",
    "    rf_grid.fit(X_train, y_train)\n",
    "    y_pred=rf_grid.predict(X_test)\n",
    "    \n",
    "    result = pd.DataFrame(rf_grid.cv_results_)[['mean_test_score', 'std_test_score', 'params']]\n",
    "    if not os.path.exists(\"./TuningResult/\"):\n",
    "        os.mkdir(\"./TuningResult/\")\n",
    "    filename = \"TuningResult/KSAD_4_HT\"+str(loop)+\".csv\"\n",
    "    result.to_csv(filename, index=False)\n",
    "    \n",
    "    best_est = rf_grid.best_estimator_\n",
    "    plot_feature_importances(best_est)\n",
    "    \n",
    "    print(\"{:.<45}\".format(\"1. Feature Importances\"))\n",
    "    print(\"\\t\",best_est.feature_importances_)\n",
    "    \n",
    "    print(\"{:.<45}\".format(\"2. best train parameter\"))\n",
    "    print(\"\\t\",rf_grid.best_params_)\n",
    "    print(\"{:.<45}\".format(\"3. best train score\"))\n",
    "    print(\"\\t\",rf_grid.best_score_)\n",
    "    \n",
    "    print(\"\\n\")\n",
    "    false_positive_rate, true_positive_rate, thresholds = roc_curve(y_test, y_pred)\n",
    "    roc_auc = auc(false_positive_rate, true_positive_rate)\n",
    "    print(\"{:.<45}\".format(\"4. ROC-AUC\"))\n",
    "    print(\"\\t\",roc_auc)\n",
    "    \n",
    "    f1 = f1_score(y_test, y_pred, average='binary')\n",
    "    print(\"{:.<45}\".format(\"5. f1 score\"))\n",
    "    print(\"\\t\",f1)\n",
    "    print(\"{:.<45}\".format(\"6. Confusion matrix\"))\n",
    "    print(confusion_matrix(y_test, y_pred))\n",
    "    print(\"{:.<45}\".format(\"7. Classify report\"))\n",
    "    print(classification_report(y_test, y_pred))\n",
    "    print(\"{:.<45}\".format(\"8. Accuracy score\"))\n",
    "    print(\"\\t\",accuracy_score(y_test, y_pred))\n",
    "    \n",
    "    loop += 1"
   ]
  },
  {
   "cell_type": "code",
   "execution_count": null,
   "metadata": {
    "scrolled": false
   },
   "outputs": [],
   "source": [
    "inner_cv = KFold(n_splits = k_fold, shuffle=False, random_state = 123)\n",
    "outer_cv = KFold(n_splits = k_fold, shuffle=False, random_state = 123)\n",
    "loop=1\n",
    "for train_index, test_index in outer_cv.split(X, y):\n",
    "    print('\\n')\n",
    "    print('-'*50)\n",
    "    print('Loop: ', loop)\n",
    "    \n",
    "    X_train, X_test = X[train_index], X[test_index]\n",
    "    y_train, y_test = y[train_index], y[test_index]\n",
    "\n",
    "    #No Tuning\n",
    "#     rf = RandomForestClassifier(n_estimators= 100, min_samples_leaf=5)\n",
    "#     rf.fit(X_train, y_train)\n",
    "#     y_pred = rf.predict(X_test)\n",
    "    \n",
    "    #Tuning\n",
    "    rf = RandomForestClassifier()\n",
    "    params = {'n_estimators': np.arange(200, 500, 20),\n",
    "              'max_depth': np.arange(10, 100, 10)}\n",
    "    rf_grid = GridSearchCV(estimator = rf, param_grid = params, cv = inner_cv, scoring='roc_auc', n_jobs=-1, return_train_score=True)\n",
    "    rf_grid.fit(X_train, y_train)\n",
    "    y_pred=rf_grid.predict(X_test)\n",
    "    \n",
    "    result = pd.DataFrame(rf_grid.cv_results_)[['mean_test_score', 'std_test_score', 'params']]\n",
    "    if not os.path.exists(\"./TuningResult/\"):\n",
    "        os.mkdir(\"./TuningResult/\")\n",
    "    filename = \"TuningResult/KSAD_4_HT\"+str(loop)+\".csv\"\n",
    "    result.to_csv(filename, index=False)\n",
    "    \n",
    "    best_est = rf_grid.best_estimator_\n",
    "    plot_feature_importances(best_est)\n",
    "    \n",
    "    print(\"{:.<45}\".format(\"1. Feature Importances\"))\n",
    "    print(\"\\t\",best_est.feature_importances_)\n",
    "    \n",
    "    print(\"{:.<45}\".format(\"2. best train parameter\"))\n",
    "    print(\"\\t\",rf_grid.best_params_)\n",
    "    print(\"{:.<45}\".format(\"3. best train score\"))\n",
    "    print(\"\\t\",rf_grid.best_score_)\n",
    "    \n",
    "    print(\"\\n\")\n",
    "    false_positive_rate, true_positive_rate, thresholds = roc_curve(y_test, y_pred)\n",
    "    roc_auc = auc(false_positive_rate, true_positive_rate)\n",
    "    print(\"{:.<45}\".format(\"4. ROC-AUC\"))\n",
    "    print(\"\\t\",roc_auc)\n",
    "    \n",
    "    f1 = f1_score(y_test, y_pred, average='binary')\n",
    "    print(\"{:.<45}\".format(\"5. f1 score\"))\n",
    "    print(\"\\t\",f1)\n",
    "    print(\"{:.<45}\".format(\"6. Confusion matrix\"))\n",
    "    print(confusion_matrix(y_test, y_pred))\n",
    "    print(\"{:.<45}\".format(\"7. Classify report\"))\n",
    "    print(classification_report(y_test, y_pred))\n",
    "    print(\"{:.<45}\".format(\"8. Accuracy score\"))\n",
    "    print(\"\\t\",accuracy_score(y_test, y_pred))\n",
    "    \n",
    "    loop += 1"
   ]
  },
  {
   "cell_type": "code",
   "execution_count": null,
   "metadata": {
    "scrolled": false
   },
   "outputs": [],
   "source": [
    "inner_cv = KFold(n_splits = k_fold, shuffle=False, random_state = 123)\n",
    "outer_cv = KFold(n_splits = k_fold, shuffle=False, random_state = 123)\n",
    "loop=1\n",
    "for train_index, test_index in outer_cv.split(X, y):\n",
    "    print('\\n')\n",
    "    print('-'*50)\n",
    "    print('Loop: ', loop)\n",
    "    \n",
    "    X_train, X_test = X[train_index], X[test_index]\n",
    "    y_train, y_test = y[train_index], y[test_index]\n",
    "\n",
    "    #No Tuning\n",
    "#     rf = RandomForestClassifier(n_estimators= 100, min_samples_leaf=5)\n",
    "#     rf.fit(X_train, y_train)\n",
    "#     y_pred = rf.predict(X_test)\n",
    "    \n",
    "    #Tuning\n",
    "    rf = RandomForestClassifier()\n",
    "    params = {'n_estimators': [1000],\n",
    "              'max_depth': np.arange(10, 100, 10)}\n",
    "    rf_grid = GridSearchCV(estimator = rf, param_grid = params, cv = inner_cv, scoring='roc_auc', n_jobs=-1, return_train_score=True)\n",
    "    rf_grid.fit(X_train, y_train)\n",
    "    y_pred=rf_grid.predict(X_test)\n",
    "    \n",
    "    result = pd.DataFrame(rf_grid.cv_results_)[['mean_test_score', 'std_test_score', 'params']]\n",
    "#     if not os.path.exists(\"./TuningResult/\"):\n",
    "#         os.mkdir(\"./TuningResult/\")\n",
    "#     filename = \"TuningResult/KSAD_4_HT\"+str(loop)+\".csv\"\n",
    "#     result.to_csv(filename, index=False)\n",
    "    \n",
    "    best_est = rf_grid.best_estimator_\n",
    "    plot_feature_importances(best_est)\n",
    "    \n",
    "    print(\"{:.<45}\".format(\"1. Feature Importances\"))\n",
    "    print(\"\\t\",best_est.feature_importances_)\n",
    "    \n",
    "    print(\"{:.<45}\".format(\"2. best train parameter\"))\n",
    "    print(\"\\t\",rf_grid.best_params_)\n",
    "    print(\"{:.<45}\".format(\"3. best train score\"))\n",
    "    print(\"\\t\",rf_grid.best_score_)\n",
    "    \n",
    "    print(\"\\n\")\n",
    "    false_positive_rate, true_positive_rate, thresholds = roc_curve(y_test, y_pred)\n",
    "    roc_auc = auc(false_positive_rate, true_positive_rate)\n",
    "    print(\"{:.<45}\".format(\"4. ROC-AUC\"))\n",
    "    print(\"\\t\",roc_auc)\n",
    "    \n",
    "    f1 = f1_score(y_test, y_pred, average='binary')\n",
    "    print(\"{:.<45}\".format(\"5. f1 score\"))\n",
    "    print(\"\\t\",f1)\n",
    "    print(\"{:.<45}\".format(\"6. Confusion matrix\"))\n",
    "    print(confusion_matrix(y_test, y_pred))\n",
    "    print(\"{:.<45}\".format(\"7. Classify report\"))\n",
    "    print(classification_report(y_test, y_pred))\n",
    "    print(\"{:.<45}\".format(\"8. Accuracy score\"))\n",
    "    print(\"\\t\",accuracy_score(y_test, y_pred))\n",
    "    \n",
    "    loop += 1"
   ]
  },
  {
   "cell_type": "code",
   "execution_count": null,
   "metadata": {},
   "outputs": [],
   "source": []
  }
 ],
 "metadata": {
  "kernelspec": {
   "display_name": "Environment (conda_python3)",
   "language": "python",
   "name": "conda_python3"
  },
  "language_info": {
   "codemirror_mode": {
    "name": "ipython",
    "version": 3
   },
   "file_extension": ".py",
   "mimetype": "text/x-python",
   "name": "python",
   "nbconvert_exporter": "python",
   "pygments_lexer": "ipython3",
   "version": "3.6.5"
  }
 },
 "nbformat": 4,
 "nbformat_minor": 2
}
