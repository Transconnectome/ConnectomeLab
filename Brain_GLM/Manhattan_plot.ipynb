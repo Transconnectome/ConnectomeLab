{
 "cells": [
  {
   "cell_type": "markdown",
   "metadata": {},
   "source": [
    "### Move to working Directory\n",
    "- C:\\Users\\SEOYOON_MOON\\Desktop\\ConnectomeLab\\connectome_data\\glm_gps_mor: p value 있는 folder\n",
    "- C:\\Users\\SEOYOON_MOON\\Desktop\\ConnectomeLab\\connectome_data\\plots: plot 저장"
   ]
  },
  {
   "cell_type": "code",
   "execution_count": 1,
   "metadata": {},
   "outputs": [
    {
     "name": "stdout",
     "output_type": "stream",
     "text": [
      "C:\\Users\\SEOYOON_MOON\\Desktop\\ConnectomeLab\\connectome_data\\glm_gps_mor\n"
     ]
    }
   ],
   "source": [
    "%cd C:\\Users\\SEOYOON_MOON\\Desktop\\ConnectomeLab\\connectome_data\\glm_gps_mor"
   ]
  },
  {
   "cell_type": "markdown",
   "metadata": {},
   "source": [
    "### Import packages"
   ]
  },
  {
   "cell_type": "code",
   "execution_count": 2,
   "metadata": {},
   "outputs": [],
   "source": [
    "import pandas as pd\n",
    "from bioinfokit import visuz"
   ]
  },
  {
   "cell_type": "markdown",
   "metadata": {},
   "source": [
    "### Get file list"
   ]
  },
  {
   "cell_type": "code",
   "execution_count": 3,
   "metadata": {},
   "outputs": [],
   "source": [
    "import os\n",
    "relative_path= './with_covariates/'\n",
    "files = [file for file in os.listdir(relative_path) if 'pvalue' in file]"
   ]
  },
  {
   "cell_type": "markdown",
   "metadata": {},
   "source": [
    "### Labeling function\n",
    "- area\n",
    "- volume\n",
    "- mean curve\n",
    "- thickness\n",
    "- sub cortical\n",
    "- global volume\n",
    "    - BrainSeg\n",
    "    - BrainSegNotVent\n",
    "    - SupraTentorial\n",
    "    - SupraTentorialNotVent\n",
    "    - Mask\n",
    "    - EstimatedTotalIntraCranialVol (eTIV)\n",
    "    - lhCortex,rhCortex,Cortex\n",
    "    - lhCerebralWhiteMatter,rhCerebralWhiteMatter,CerebralWhiteMatter\n",
    "    - SubCortGray\n",
    "    - TotalGray"
   ]
  },
  {
   "cell_type": "code",
   "execution_count": 8,
   "metadata": {},
   "outputs": [],
   "source": [
    "labels = pd.read_csv('mor_labels.csv', header=0)\n",
    "labels.sort_values(by='label', inplace=True, ignore_index=True)"
   ]
  },
  {
   "cell_type": "markdown",
   "metadata": {},
   "source": [
    "### Draw all\n",
    "- for all gps\n",
    "- for p, fdr, bonferonni"
   ]
  },
  {
   "cell_type": "code",
   "execution_count": 14,
   "metadata": {},
   "outputs": [],
   "source": [
    "color=(\"#f55354\", \"#f59b25\", \"#7fc638\", \"#754100\", \"#586fab\", \"#c9753d\")"
   ]
  },
  {
   "cell_type": "code",
   "execution_count": 15,
   "metadata": {
    "scrolled": true
   },
   "outputs": [
    {
     "name": "stdout",
     "output_type": "stream",
     "text": [
      "pvalue_corrected_cov_AD.csv\n",
      "pvalue_corrected_cov_ADHD.csv\n",
      "pvalue_corrected_cov_ASD.csv\n",
      "pvalue_corrected_cov_ASP.csv\n",
      "pvalue_corrected_cov_BIP.csv\n",
      "pvalue_corrected_cov_CANNABIS.csv\n",
      "pvalue_corrected_cov_CP.csv\n",
      "pvalue_corrected_cov_DEPRESSION.csv\n",
      "pvalue_corrected_cov_DEPRESSIONSUB.csv\n",
      "pvalue_corrected_cov_DRINK.csv\n",
      "pvalue_corrected_cov_EA.csv\n",
      "pvalue_corrected_cov_GENERALHAPPINESS.csv\n",
      "pvalue_corrected_cov_GENERALHAPPINESSHEALTH.csv\n",
      "pvalue_corrected_cov_GENERALHAPPINESSMEANINGFUL.csv\n",
      "pvalue_corrected_cov_HAPPINESS.csv\n",
      "pvalue_corrected_cov_INSOMNIA.csv\n",
      "pvalue_corrected_cov_IQ.csv\n",
      "pvalue_corrected_cov_MDD.csv\n",
      "pvalue_corrected_cov_NEUROTICISM.csv\n",
      "pvalue_corrected_cov_PTSD.csv\n",
      "pvalue_corrected_cov_RISK4PC.csv\n",
      "pvalue_corrected_cov_RISKTOL.csv\n",
      "pvalue_corrected_cov_SCZ.csv\n",
      "pvalue_corrected_cov_SMOKER.csv\n",
      "pvalue_corrected_cov_SNORING.csv\n",
      "pvalue_corrected_cov_WORRY.csv\n"
     ]
    }
   ],
   "source": [
    "for file in files:\n",
    "    print(file)\n",
    "    splited = file[:-4].split(sep='_') # [:-4]: remove '.csv'\n",
    "    figname = splited[-1]+'(cov)'\n",
    "    \n",
    "    df = pd.read_csv(relative_path+file, header=0)\n",
    "    \n",
    "    df = pd.merge(labels, df, on='glm.result.brain')\n",
    "    \n",
    "    size = len(df)\n",
    "    # p value\n",
    "    visuz.marker.mhat(df=df, axlabelfontname='DejaVu Sans', axxlabel=figname+'-P', \n",
    "                      figname= './plots/'+figname+'-P', chr='label',\n",
    "                      pv='P', show = False, axtickfontsize=5,color = color, \n",
    "                      gwas_sign_line=True, gwasp=0.05/size)\n",
    "    #fdr\n",
    "    visuz.marker.mhat(df=df, axlabelfontname='DejaVu Sans', axxlabel=figname+'-FDR', \n",
    "                      figname= './plots/'+figname+'-FDR', chr='label',\n",
    "                      pv='FDR', show = False, axtickfontsize=5,color = color, \n",
    "                      gwas_sign_line=True, gwasp=0.05) #fdr은 기준이 0.05\n",
    "    #bonferonni\n",
    "    visuz.marker.mhat(df=df, axlabelfontname='DejaVu Sans', axxlabel=figname+'-BONF', \n",
    "                      figname= './plots/'+figname+'-BONF', chr='label',\n",
    "                      pv='BONF', show = False, axtickfontsize=5,color = color, \n",
    "                      gwas_sign_line=True, gwasp=0.05/size)"
   ]
  },
  {
   "cell_type": "markdown",
   "metadata": {},
   "source": [
    "### Make manhattan plots\n",
    "- Test!"
   ]
  },
  {
   "cell_type": "code",
   "execution_count": 14,
   "metadata": {},
   "outputs": [
    {
     "name": "stdout",
     "output_type": "stream",
     "text": [
      "pvalue_corrected_cov_BIP.csv\n",
      "BIP(cov)\n"
     ]
    }
   ],
   "source": [
    "print(files[10])\n",
    "splited = files[10][:-4].split(sep='_')\n",
    "if len(splited)==4:\n",
    "    figname = splited[-1]+'(cov)'\n",
    "else:\n",
    "    figname = splited[-1]\n",
    "print(figname)"
   ]
  },
  {
   "cell_type": "code",
   "execution_count": 21,
   "metadata": {},
   "outputs": [
    {
     "data": {
      "text/html": [
       "<div>\n",
       "<style scoped>\n",
       "    .dataframe tbody tr th:only-of-type {\n",
       "        vertical-align: middle;\n",
       "    }\n",
       "\n",
       "    .dataframe tbody tr th {\n",
       "        vertical-align: top;\n",
       "    }\n",
       "\n",
       "    .dataframe thead th {\n",
       "        text-align: right;\n",
       "    }\n",
       "</style>\n",
       "<table border=\"1\" class=\"dataframe\">\n",
       "  <thead>\n",
       "    <tr style=\"text-align: right;\">\n",
       "      <th></th>\n",
       "      <th>Unnamed: 0</th>\n",
       "      <th>glm.result.brain</th>\n",
       "      <th>P</th>\n",
       "      <th>BONF</th>\n",
       "      <th>FDR</th>\n",
       "      <th>chr</th>\n",
       "    </tr>\n",
       "  </thead>\n",
       "  <tbody>\n",
       "    <tr>\n",
       "      <th>0</th>\n",
       "      <td>1</td>\n",
       "      <td>lh_bankssts_area._.1</td>\n",
       "      <td>0.218280</td>\n",
       "      <td>1.000000</td>\n",
       "      <td>0.546303</td>\n",
       "      <td>0</td>\n",
       "    </tr>\n",
       "    <tr>\n",
       "      <th>1</th>\n",
       "      <td>2</td>\n",
       "      <td>lh_caudalanteriorcingulate_area._.1</td>\n",
       "      <td>0.017010</td>\n",
       "      <td>1.000000</td>\n",
       "      <td>0.216606</td>\n",
       "      <td>0</td>\n",
       "    </tr>\n",
       "    <tr>\n",
       "      <th>2</th>\n",
       "      <td>3</td>\n",
       "      <td>lh_caudalmiddlefrontal_area._.1</td>\n",
       "      <td>0.000688</td>\n",
       "      <td>0.691908</td>\n",
       "      <td>0.076879</td>\n",
       "      <td>0</td>\n",
       "    </tr>\n",
       "    <tr>\n",
       "      <th>3</th>\n",
       "      <td>4</td>\n",
       "      <td>lh_cuneus_area._.1</td>\n",
       "      <td>0.400151</td>\n",
       "      <td>1.000000</td>\n",
       "      <td>0.721418</td>\n",
       "      <td>0</td>\n",
       "    </tr>\n",
       "    <tr>\n",
       "      <th>4</th>\n",
       "      <td>5</td>\n",
       "      <td>lh_entorhinal_area._.1</td>\n",
       "      <td>0.121473</td>\n",
       "      <td>1.000000</td>\n",
       "      <td>0.415078</td>\n",
       "      <td>0</td>\n",
       "    </tr>\n",
       "  </tbody>\n",
       "</table>\n",
       "</div>"
      ],
      "text/plain": [
       "   Unnamed: 0                     glm.result.brain         P      BONF  \\\n",
       "0           1                 lh_bankssts_area._.1  0.218280  1.000000   \n",
       "1           2  lh_caudalanteriorcingulate_area._.1  0.017010  1.000000   \n",
       "2           3      lh_caudalmiddlefrontal_area._.1  0.000688  0.691908   \n",
       "3           4                   lh_cuneus_area._.1  0.400151  1.000000   \n",
       "4           5               lh_entorhinal_area._.1  0.121473  1.000000   \n",
       "\n",
       "        FDR  chr  \n",
       "0  0.546303    0  \n",
       "1  0.216606    0  \n",
       "2  0.076879    0  \n",
       "3  0.721418    0  \n",
       "4  0.415078    0  "
      ]
     },
     "execution_count": 21,
     "metadata": {},
     "output_type": "execute_result"
    }
   ],
   "source": [
    "df = pd.read_csv('./glm_gps_mor/'+files[10], header=0)\n",
    "df['chr'] = 0\n",
    "df.head()"
   ]
  },
  {
   "cell_type": "code",
   "execution_count": 22,
   "metadata": {},
   "outputs": [
    {
     "data": {
      "image/png": "[encoded data removed]",
      "text/plain": [
       "<Figure size 432x288 with 1 Axes>"
      ]
     },
     "metadata": {
      "needs_background": "light"
     },
     "output_type": "display_data"
    }
   ],
   "source": [
    "visuz.marker.mhat(df=df, axlabelfontname='DejaVu Sans', axxlabel=figname, \n",
    "                      figname= './plots/figname', chr='chr',\n",
    "                      pv='P', show = True, axtickfontsize=5,\n",
    "                      gwas_sign_line=True, gwasp=0.05/len(df))"
   ]
  }
 ],
 "metadata": {
  "kernelspec": {
   "display_name": "Connectome",
   "language": "python",
   "name": "connectome"
  },
  "language_info": {
   "codemirror_mode": {
    "name": "ipython",
    "version": 3
   },
   "file_extension": ".py",
   "mimetype": "text/x-python",
   "name": "python",
   "nbconvert_exporter": "python",
   "pygments_lexer": "ipython3",
   "version": "3.8.5"
  }
 },
 "nbformat": 4,
 "nbformat_minor": 2
}
